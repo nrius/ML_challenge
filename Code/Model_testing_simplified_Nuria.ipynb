{
 "cells": [
  {
   "cell_type": "code",
   "execution_count": null,
   "metadata": {},
   "outputs": [],
   "source": [
    "from cookies_main_pipeline import full_pipeline\n",
    "from cookies_main_pipeline import X_train, y_train, X_test, y_test\n",
    "import pandas as pd\n",
    "from sklearn.ensemble import GradientBoostingRegressor\n",
    "from sklearn.model_selection import RandomizedSearchCV\n",
    "from sklearn.linear_model import LinearRegression\n",
    "from sklearn.neighbors import KNeighborsRegressor\n",
    "from sklearn.model_selection import GridSearchCV\n",
    "from sklearn.metrics import mean_squared_error\n",
    "from sklearn.tree import DecisionTreeRegressor\n",
    "from sklearn.metrics import mean_squared_error\n",
    "from sklearn.metrics import r2_score\n",
    "from sklearn.ensemble import RandomForestRegressor\n",
    "from sklearn.model_selection import RandomizedSearchCV\n",
    "from  sklearn.ensemble import RandomForestClassifier\n",
    "from sklearn.ensemble import StackingRegressor\n",
    "\n",
    "from sklearn.ensemble import AdaBoostRegressor\n",
    "from sklearn.linear_model import LogisticRegression\n",
    "\n",
    "from sklearn.ensemble import GradientBoostingRegressor\n",
    "estimators = [('rf', RandomForestRegressor(max_samples=0.9, min_samples_split=3, n_estimators=200, random_state=42)),\n",
    "               ('gb',GradientBoostingRegressor(criterion='mse', min_samples_split=4,\n",
    "                          n_estimators=300, random_state=42)),\n",
    "               (\"ab\",AdaBoostRegressor(n_estimators=70, random_state=42))\n",
    "               \n",
    "               ]\n",
    "best_reg_simple = StackingRegressor(estimators=estimators_simple,\n",
    "                             cv=10,\n",
    "                             final_estimator=LinearRegression())\n",
    "best_reg_simple.fit(X_train_preprocess, y_train)\n",
    "\n",
    "y_pred =best_reg_simple.predict(X_test_preprocess)\n",
    "\n",
    "mean_squared_error(y_test, y_pred, squared=False)"
   ]
  }
 ],
 "metadata": {
  "kernelspec": {
   "display_name": "Python 3",
   "language": "python",
   "name": "python3"
  },
  "language_info": {
   "codemirror_mode": {
    "name": "ipython",
    "version": 3
   },
   "file_extension": ".py",
   "mimetype": "text/x-python",
   "name": "python",
   "nbconvert_exporter": "python",
   "pygments_lexer": "ipython3",
   "version": "3.8.5"
  }
 },
 "nbformat": 4,
 "nbformat_minor": 4
}
