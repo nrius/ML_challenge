{
 "cells": [
  {
   "cell_type": "code",
   "execution_count": 1,
   "metadata": {},
   "outputs": [],
   "source": [
    "from cookies_main_pipeline import full_pipeline\n",
    "from cleaning_data import dropping_rows_and_columns\n",
    "from cookies_main_pipeline import X_train, y_train, X_test, y_test\n",
    "import pandas as pd"
   ]
  },
  {
   "cell_type": "code",
   "execution_count": 2,
   "metadata": {},
   "outputs": [],
   "source": [
    "from sklearn.ensemble import GradientBoostingRegressor\n",
    "from sklearn.model_selection import RandomizedSearchCV\n",
    "from sklearn.linear_model import LinearRegression\n",
    "from sklearn.neighbors import KNeighborsRegressor\n",
    "from sklearn.model_selection import GridSearchCV\n",
    "from sklearn.metrics import mean_squared_error\n",
    "from sklearn.tree import DecisionTreeRegressor\n",
    "from sklearn.metrics import mean_squared_error\n",
    "from sklearn.metrics import r2_score\n",
    "from sklearn.ensemble import RandomForestRegressor\n",
    "from sklearn.model_selection import RandomizedSearchCV\n",
    "from  sklearn.ensemble import RandomForestClassifier\n",
    "from sklearn.ensemble import StackingRegressor\n",
    "\n",
    "from sklearn.ensemble import AdaBoostRegressor\n",
    "from sklearn.linear_model import LogisticRegression\n",
    "\n",
    "from sklearn.ensemble import GradientBoostingRegressor\n"
   ]
  },
  {
   "cell_type": "code",
   "execution_count": 23,
   "metadata": {},
   "outputs": [],
   "source": [
    "#import the validation dataset:\n",
    "cookies_validate = pd.read_csv(\"../Data/cookies_validate.csv\")"
   ]
  },
  {
   "cell_type": "code",
   "execution_count": 24,
   "metadata": {},
   "outputs": [],
   "source": [
    "cookies_validate_clean=dropping_rows_and_columns(cookies_validate)"
   ]
  },
  {
   "cell_type": "code",
   "execution_count": 25,
   "metadata": {},
   "outputs": [
    {
     "data": {
      "text/html": [
       "<div>\n",
       "<style scoped>\n",
       "    .dataframe tbody tr th:only-of-type {\n",
       "        vertical-align: middle;\n",
       "    }\n",
       "\n",
       "    .dataframe tbody tr th {\n",
       "        vertical-align: top;\n",
       "    }\n",
       "\n",
       "    .dataframe thead th {\n",
       "        text-align: right;\n",
       "    }\n",
       "</style>\n",
       "<table border=\"1\" class=\"dataframe\">\n",
       "  <thead>\n",
       "    <tr style=\"text-align: right;\">\n",
       "      <th></th>\n",
       "      <th>id</th>\n",
       "      <th>sugar to flour ratio</th>\n",
       "      <th>sugar index</th>\n",
       "      <th>bake temp</th>\n",
       "      <th>calories</th>\n",
       "      <th>pH</th>\n",
       "      <th>grams baking soda</th>\n",
       "      <th>bake time</th>\n",
       "      <th>quality</th>\n",
       "      <th>butter type</th>\n",
       "      <th>weight</th>\n",
       "      <th>mixins</th>\n",
       "    </tr>\n",
       "  </thead>\n",
       "  <tbody>\n",
       "    <tr>\n",
       "      <th>0</th>\n",
       "      <td>14</td>\n",
       "      <td>0.62</td>\n",
       "      <td>2.957511</td>\n",
       "      <td>400.0</td>\n",
       "      <td>172.0</td>\n",
       "      <td>7.98</td>\n",
       "      <td>0.67</td>\n",
       "      <td>9.7</td>\n",
       "      <td>0</td>\n",
       "      <td>melted</td>\n",
       "      <td>16.6</td>\n",
       "      <td>nuts, chocolate</td>\n",
       "    </tr>\n",
       "    <tr>\n",
       "      <th>1</th>\n",
       "      <td>26</td>\n",
       "      <td>0.35</td>\n",
       "      <td>0.000000</td>\n",
       "      <td>520.0</td>\n",
       "      <td>146.0</td>\n",
       "      <td>8.45</td>\n",
       "      <td>0.44</td>\n",
       "      <td>10.0</td>\n",
       "      <td>0</td>\n",
       "      <td>melted</td>\n",
       "      <td>13.8</td>\n",
       "      <td>chocolate</td>\n",
       "    </tr>\n",
       "    <tr>\n",
       "      <th>2</th>\n",
       "      <td>30</td>\n",
       "      <td>0.39</td>\n",
       "      <td>2.341806</td>\n",
       "      <td>440.0</td>\n",
       "      <td>142.0</td>\n",
       "      <td>8.20</td>\n",
       "      <td>0.53</td>\n",
       "      <td>10.0</td>\n",
       "      <td>0</td>\n",
       "      <td>melted</td>\n",
       "      <td>17.0</td>\n",
       "      <td>chocolate</td>\n",
       "    </tr>\n",
       "    <tr>\n",
       "      <th>3</th>\n",
       "      <td>52</td>\n",
       "      <td>0.33</td>\n",
       "      <td>0.095310</td>\n",
       "      <td>570.0</td>\n",
       "      <td>82.0</td>\n",
       "      <td>8.32</td>\n",
       "      <td>0.46</td>\n",
       "      <td>10.9</td>\n",
       "      <td>0</td>\n",
       "      <td>melted</td>\n",
       "      <td>12.4</td>\n",
       "      <td>chocolate, oats</td>\n",
       "    </tr>\n",
       "    <tr>\n",
       "      <th>4</th>\n",
       "      <td>100</td>\n",
       "      <td>0.37</td>\n",
       "      <td>2.602690</td>\n",
       "      <td>600.0</td>\n",
       "      <td>192.0</td>\n",
       "      <td>8.00</td>\n",
       "      <td>0.44</td>\n",
       "      <td>9.1</td>\n",
       "      <td>0</td>\n",
       "      <td>melted</td>\n",
       "      <td>14.8</td>\n",
       "      <td>chocolate</td>\n",
       "    </tr>\n",
       "    <tr>\n",
       "      <th>...</th>\n",
       "      <td>...</td>\n",
       "      <td>...</td>\n",
       "      <td>...</td>\n",
       "      <td>...</td>\n",
       "      <td>...</td>\n",
       "      <td>...</td>\n",
       "      <td>...</td>\n",
       "      <td>...</td>\n",
       "      <td>...</td>\n",
       "      <td>...</td>\n",
       "      <td>...</td>\n",
       "      <td>...</td>\n",
       "    </tr>\n",
       "    <tr>\n",
       "      <th>774</th>\n",
       "      <td>1442</td>\n",
       "      <td>0.02</td>\n",
       "      <td>0.641854</td>\n",
       "      <td>780.0</td>\n",
       "      <td>30.0</td>\n",
       "      <td>8.40</td>\n",
       "      <td>0.75</td>\n",
       "      <td>9.8</td>\n",
       "      <td>0</td>\n",
       "      <td>cubed</td>\n",
       "      <td>13.8</td>\n",
       "      <td>nuts, oats, chocolate</td>\n",
       "    </tr>\n",
       "    <tr>\n",
       "      <th>775</th>\n",
       "      <td>1445</td>\n",
       "      <td>0.19</td>\n",
       "      <td>1.648659</td>\n",
       "      <td>940.0</td>\n",
       "      <td>98.0</td>\n",
       "      <td>8.16</td>\n",
       "      <td>0.52</td>\n",
       "      <td>9.6</td>\n",
       "      <td>0</td>\n",
       "      <td>cubed</td>\n",
       "      <td>14.8</td>\n",
       "      <td>nuts, oats</td>\n",
       "    </tr>\n",
       "    <tr>\n",
       "      <th>776</th>\n",
       "      <td>1461</td>\n",
       "      <td>0.00</td>\n",
       "      <td>0.741937</td>\n",
       "      <td>600.0</td>\n",
       "      <td>13.0</td>\n",
       "      <td>8.59</td>\n",
       "      <td>0.61</td>\n",
       "      <td>10.0</td>\n",
       "      <td>0</td>\n",
       "      <td>cubed</td>\n",
       "      <td>12.4</td>\n",
       "      <td>nuts, oats</td>\n",
       "    </tr>\n",
       "    <tr>\n",
       "      <th>777</th>\n",
       "      <td>1467</td>\n",
       "      <td>0.08</td>\n",
       "      <td>0.832909</td>\n",
       "      <td>670.0</td>\n",
       "      <td>32.0</td>\n",
       "      <td>8.52</td>\n",
       "      <td>0.57</td>\n",
       "      <td>11.0</td>\n",
       "      <td>0</td>\n",
       "      <td>cubed</td>\n",
       "      <td>13.4</td>\n",
       "      <td>peanut butter</td>\n",
       "    </tr>\n",
       "    <tr>\n",
       "      <th>778</th>\n",
       "      <td>1474</td>\n",
       "      <td>0.50</td>\n",
       "      <td>2.624669</td>\n",
       "      <td>2050.0</td>\n",
       "      <td>82.0</td>\n",
       "      <td>8.16</td>\n",
       "      <td>0.75</td>\n",
       "      <td>8.8</td>\n",
       "      <td>0</td>\n",
       "      <td>cubed</td>\n",
       "      <td>19.8</td>\n",
       "      <td>nuts,raisins</td>\n",
       "    </tr>\n",
       "  </tbody>\n",
       "</table>\n",
       "<p>779 rows × 12 columns</p>\n",
       "</div>"
      ],
      "text/plain": [
       "       id  sugar to flour ratio  sugar index  bake temp  calories    pH  \\\n",
       "0      14                  0.62     2.957511      400.0     172.0  7.98   \n",
       "1      26                  0.35     0.000000      520.0     146.0  8.45   \n",
       "2      30                  0.39     2.341806      440.0     142.0  8.20   \n",
       "3      52                  0.33     0.095310      570.0      82.0  8.32   \n",
       "4     100                  0.37     2.602690      600.0     192.0  8.00   \n",
       "..    ...                   ...          ...        ...       ...   ...   \n",
       "774  1442                  0.02     0.641854      780.0      30.0  8.40   \n",
       "775  1445                  0.19     1.648659      940.0      98.0  8.16   \n",
       "776  1461                  0.00     0.741937      600.0      13.0  8.59   \n",
       "777  1467                  0.08     0.832909      670.0      32.0  8.52   \n",
       "778  1474                  0.50     2.624669     2050.0      82.0  8.16   \n",
       "\n",
       "     grams baking soda  bake time  quality butter type  weight  \\\n",
       "0                 0.67        9.7        0      melted    16.6   \n",
       "1                 0.44       10.0        0      melted    13.8   \n",
       "2                 0.53       10.0        0      melted    17.0   \n",
       "3                 0.46       10.9        0      melted    12.4   \n",
       "4                 0.44        9.1        0      melted    14.8   \n",
       "..                 ...        ...      ...         ...     ...   \n",
       "774               0.75        9.8        0       cubed    13.8   \n",
       "775               0.52        9.6        0       cubed    14.8   \n",
       "776               0.61       10.0        0       cubed    12.4   \n",
       "777               0.57       11.0        0       cubed    13.4   \n",
       "778               0.75        8.8        0       cubed    19.8   \n",
       "\n",
       "                    mixins  \n",
       "0          nuts, chocolate  \n",
       "1                chocolate  \n",
       "2                chocolate  \n",
       "3          chocolate, oats  \n",
       "4                chocolate  \n",
       "..                     ...  \n",
       "774  nuts, oats, chocolate  \n",
       "775             nuts, oats  \n",
       "776             nuts, oats  \n",
       "777          peanut butter  \n",
       "778           nuts,raisins  \n",
       "\n",
       "[779 rows x 12 columns]"
      ]
     },
     "execution_count": 25,
     "metadata": {},
     "output_type": "execute_result"
    }
   ],
   "source": [
    "cookies_validate"
   ]
  },
  {
   "cell_type": "code",
   "execution_count": 26,
   "metadata": {
    "scrolled": true
   },
   "outputs": [
    {
     "data": {
      "text/html": [
       "<div>\n",
       "<style scoped>\n",
       "    .dataframe tbody tr th:only-of-type {\n",
       "        vertical-align: middle;\n",
       "    }\n",
       "\n",
       "    .dataframe tbody tr th {\n",
       "        vertical-align: top;\n",
       "    }\n",
       "\n",
       "    .dataframe thead th {\n",
       "        text-align: right;\n",
       "    }\n",
       "</style>\n",
       "<table border=\"1\" class=\"dataframe\">\n",
       "  <thead>\n",
       "    <tr style=\"text-align: right;\">\n",
       "      <th></th>\n",
       "      <th>id</th>\n",
       "      <th>sugar to flour ratio</th>\n",
       "      <th>sugar index</th>\n",
       "      <th>bake temp</th>\n",
       "      <th>calories</th>\n",
       "      <th>pH</th>\n",
       "      <th>grams baking soda</th>\n",
       "      <th>bake time</th>\n",
       "      <th>quality</th>\n",
       "      <th>butter type</th>\n",
       "      <th>weight</th>\n",
       "      <th>mixins</th>\n",
       "    </tr>\n",
       "  </thead>\n",
       "  <tbody>\n",
       "    <tr>\n",
       "      <th>0</th>\n",
       "      <td>14</td>\n",
       "      <td>0.62</td>\n",
       "      <td>2.957511</td>\n",
       "      <td>400.0</td>\n",
       "      <td>172.0</td>\n",
       "      <td>7.98</td>\n",
       "      <td>0.67</td>\n",
       "      <td>9.7</td>\n",
       "      <td>0</td>\n",
       "      <td>melted</td>\n",
       "      <td>16.6</td>\n",
       "      <td>nuts, chocolate</td>\n",
       "    </tr>\n",
       "    <tr>\n",
       "      <th>1</th>\n",
       "      <td>26</td>\n",
       "      <td>0.35</td>\n",
       "      <td>0.000000</td>\n",
       "      <td>520.0</td>\n",
       "      <td>146.0</td>\n",
       "      <td>8.45</td>\n",
       "      <td>0.44</td>\n",
       "      <td>10.0</td>\n",
       "      <td>0</td>\n",
       "      <td>melted</td>\n",
       "      <td>13.8</td>\n",
       "      <td>chocolate</td>\n",
       "    </tr>\n",
       "    <tr>\n",
       "      <th>2</th>\n",
       "      <td>30</td>\n",
       "      <td>0.39</td>\n",
       "      <td>2.341806</td>\n",
       "      <td>440.0</td>\n",
       "      <td>142.0</td>\n",
       "      <td>8.20</td>\n",
       "      <td>0.53</td>\n",
       "      <td>10.0</td>\n",
       "      <td>0</td>\n",
       "      <td>melted</td>\n",
       "      <td>17.0</td>\n",
       "      <td>chocolate</td>\n",
       "    </tr>\n",
       "    <tr>\n",
       "      <th>3</th>\n",
       "      <td>52</td>\n",
       "      <td>0.33</td>\n",
       "      <td>0.095310</td>\n",
       "      <td>570.0</td>\n",
       "      <td>82.0</td>\n",
       "      <td>8.32</td>\n",
       "      <td>0.46</td>\n",
       "      <td>10.9</td>\n",
       "      <td>0</td>\n",
       "      <td>melted</td>\n",
       "      <td>12.4</td>\n",
       "      <td>chocolate, oats</td>\n",
       "    </tr>\n",
       "    <tr>\n",
       "      <th>4</th>\n",
       "      <td>100</td>\n",
       "      <td>0.37</td>\n",
       "      <td>2.602690</td>\n",
       "      <td>600.0</td>\n",
       "      <td>192.0</td>\n",
       "      <td>8.00</td>\n",
       "      <td>0.44</td>\n",
       "      <td>9.1</td>\n",
       "      <td>0</td>\n",
       "      <td>melted</td>\n",
       "      <td>14.8</td>\n",
       "      <td>chocolate</td>\n",
       "    </tr>\n",
       "  </tbody>\n",
       "</table>\n",
       "</div>"
      ],
      "text/plain": [
       "    id  sugar to flour ratio  sugar index  bake temp  calories    pH  \\\n",
       "0   14                  0.62     2.957511      400.0     172.0  7.98   \n",
       "1   26                  0.35     0.000000      520.0     146.0  8.45   \n",
       "2   30                  0.39     2.341806      440.0     142.0  8.20   \n",
       "3   52                  0.33     0.095310      570.0      82.0  8.32   \n",
       "4  100                  0.37     2.602690      600.0     192.0  8.00   \n",
       "\n",
       "   grams baking soda  bake time  quality butter type  weight           mixins  \n",
       "0               0.67        9.7        0      melted    16.6  nuts, chocolate  \n",
       "1               0.44       10.0        0      melted    13.8        chocolate  \n",
       "2               0.53       10.0        0      melted    17.0        chocolate  \n",
       "3               0.46       10.9        0      melted    12.4  chocolate, oats  \n",
       "4               0.44        9.1        0      melted    14.8        chocolate  "
      ]
     },
     "execution_count": 26,
     "metadata": {},
     "output_type": "execute_result"
    }
   ],
   "source": [
    "cookies_validate.head()"
   ]
  },
  {
   "cell_type": "code",
   "execution_count": 27,
   "metadata": {},
   "outputs": [
    {
     "data": {
      "text/plain": [
       "id                      0\n",
       "sugar to flour ratio    0\n",
       "sugar index             0\n",
       "bake temp               0\n",
       "calories                0\n",
       "pH                      0\n",
       "grams baking soda       0\n",
       "bake time               0\n",
       "quality                 0\n",
       "butter type             0\n",
       "weight                  0\n",
       "mixins                  0\n",
       "dtype: int64"
      ]
     },
     "execution_count": 27,
     "metadata": {},
     "output_type": "execute_result"
    }
   ],
   "source": [
    "#check for null values:\n",
    "cookies_validate.isnull().sum()"
   ]
  },
  {
   "cell_type": "code",
   "execution_count": 34,
   "metadata": {},
   "outputs": [
    {
     "data": {
      "text/html": [
       "<div>\n",
       "<style scoped>\n",
       "    .dataframe tbody tr th:only-of-type {\n",
       "        vertical-align: middle;\n",
       "    }\n",
       "\n",
       "    .dataframe tbody tr th {\n",
       "        vertical-align: top;\n",
       "    }\n",
       "\n",
       "    .dataframe thead th {\n",
       "        text-align: right;\n",
       "    }\n",
       "</style>\n",
       "<table border=\"1\" class=\"dataframe\">\n",
       "  <thead>\n",
       "    <tr style=\"text-align: right;\">\n",
       "      <th></th>\n",
       "      <th>id</th>\n",
       "      <th>sugar to flour ratio</th>\n",
       "      <th>sugar index</th>\n",
       "      <th>bake temp</th>\n",
       "      <th>calories</th>\n",
       "      <th>pH</th>\n",
       "      <th>grams baking soda</th>\n",
       "      <th>bake time</th>\n",
       "      <th>butter type</th>\n",
       "      <th>weight</th>\n",
       "      <th>mixins</th>\n",
       "    </tr>\n",
       "  </thead>\n",
       "  <tbody>\n",
       "    <tr>\n",
       "      <th>0</th>\n",
       "      <td>14</td>\n",
       "      <td>0.62</td>\n",
       "      <td>2.957511</td>\n",
       "      <td>400.0</td>\n",
       "      <td>172.0</td>\n",
       "      <td>7.98</td>\n",
       "      <td>0.67</td>\n",
       "      <td>9.7</td>\n",
       "      <td>melted</td>\n",
       "      <td>16.6</td>\n",
       "      <td>nuts, chocolate</td>\n",
       "    </tr>\n",
       "    <tr>\n",
       "      <th>1</th>\n",
       "      <td>26</td>\n",
       "      <td>0.35</td>\n",
       "      <td>0.000000</td>\n",
       "      <td>520.0</td>\n",
       "      <td>146.0</td>\n",
       "      <td>8.45</td>\n",
       "      <td>0.44</td>\n",
       "      <td>10.0</td>\n",
       "      <td>melted</td>\n",
       "      <td>13.8</td>\n",
       "      <td>chocolate</td>\n",
       "    </tr>\n",
       "    <tr>\n",
       "      <th>2</th>\n",
       "      <td>30</td>\n",
       "      <td>0.39</td>\n",
       "      <td>2.341806</td>\n",
       "      <td>440.0</td>\n",
       "      <td>142.0</td>\n",
       "      <td>8.20</td>\n",
       "      <td>0.53</td>\n",
       "      <td>10.0</td>\n",
       "      <td>melted</td>\n",
       "      <td>17.0</td>\n",
       "      <td>chocolate</td>\n",
       "    </tr>\n",
       "    <tr>\n",
       "      <th>3</th>\n",
       "      <td>52</td>\n",
       "      <td>0.33</td>\n",
       "      <td>0.095310</td>\n",
       "      <td>570.0</td>\n",
       "      <td>82.0</td>\n",
       "      <td>8.32</td>\n",
       "      <td>0.46</td>\n",
       "      <td>10.9</td>\n",
       "      <td>melted</td>\n",
       "      <td>12.4</td>\n",
       "      <td>chocolate, oats</td>\n",
       "    </tr>\n",
       "    <tr>\n",
       "      <th>4</th>\n",
       "      <td>100</td>\n",
       "      <td>0.37</td>\n",
       "      <td>2.602690</td>\n",
       "      <td>600.0</td>\n",
       "      <td>192.0</td>\n",
       "      <td>8.00</td>\n",
       "      <td>0.44</td>\n",
       "      <td>9.1</td>\n",
       "      <td>melted</td>\n",
       "      <td>14.8</td>\n",
       "      <td>chocolate</td>\n",
       "    </tr>\n",
       "  </tbody>\n",
       "</table>\n",
       "</div>"
      ],
      "text/plain": [
       "    id  sugar to flour ratio  sugar index  bake temp  calories    pH  \\\n",
       "0   14                  0.62     2.957511      400.0     172.0  7.98   \n",
       "1   26                  0.35     0.000000      520.0     146.0  8.45   \n",
       "2   30                  0.39     2.341806      440.0     142.0  8.20   \n",
       "3   52                  0.33     0.095310      570.0      82.0  8.32   \n",
       "4  100                  0.37     2.602690      600.0     192.0  8.00   \n",
       "\n",
       "   grams baking soda  bake time butter type  weight           mixins  \n",
       "0               0.67        9.7      melted    16.6  nuts, chocolate  \n",
       "1               0.44       10.0      melted    13.8        chocolate  \n",
       "2               0.53       10.0      melted    17.0        chocolate  \n",
       "3               0.46       10.9      melted    12.4  chocolate, oats  \n",
       "4               0.44        9.1      melted    14.8        chocolate  "
      ]
     },
     "execution_count": 34,
     "metadata": {},
     "output_type": "execute_result"
    }
   ],
   "source": [
    "#drop quality and diameter:\n",
    "X_validate=cookies_validate.drop(columns=[\"quality\"])\n",
    "X_validate_clean=cookies_validate_clean.drop(columns=[\"quality\"])\n",
    "X_validate.head()"
   ]
  },
  {
   "cell_type": "code",
   "execution_count": null,
   "metadata": {},
   "outputs": [],
   "source": []
  },
  {
   "cell_type": "code",
   "execution_count": 35,
   "metadata": {},
   "outputs": [],
   "source": [
    "#pass all the X datasets to our processing pipeline\n",
    "X_train_preprocess=full_pipeline.fit_transform(X_train)\n",
    "X_test_preprocess=full_pipeline.fit_transform(X_test)\n",
    "X_val_preprocess=full_pipeline.fit_transform(X_validate)\n",
    "X_val_preprocess_clean=full_pipeline.fit_transform(X_validate_clean)"
   ]
  },
  {
   "cell_type": "code",
   "execution_count": 30,
   "metadata": {},
   "outputs": [
    {
     "data": {
      "text/plain": [
       "array([[-0.46123066, -1.32846258, -0.5529119 , ..., -0.53747097,\n",
       "         0.68922831, -0.12234919],\n",
       "       [-0.2533124 ,  0.85706563, -0.17498889, ..., -0.53747097,\n",
       "         0.68922831, -0.12234919],\n",
       "       [ 0.30113629,  1.32046685, -0.42693756, ..., -0.53747097,\n",
       "         0.68922831, -0.12234919],\n",
       "       ...,\n",
       "       [ 0.57836063, -1.14847526, -0.33245681, ..., -0.53747097,\n",
       "         0.68922831, -0.12234919],\n",
       "       [ 0.64766672, -0.79190969, -0.26946964, ...,  1.86056562,\n",
       "         0.68922831, -0.12234919],\n",
       "       [ 3.07337973,  0.13427148,  0.32890845, ..., -0.53747097,\n",
       "        -1.45089803, -0.12234919]])"
      ]
     },
     "execution_count": 30,
     "metadata": {},
     "output_type": "execute_result"
    }
   ],
   "source": [
    "X_train_preprocess"
   ]
  },
  {
   "cell_type": "code",
   "execution_count": 31,
   "metadata": {},
   "outputs": [],
   "source": [
    "#Try linear regression:\n",
    "\n",
    "lin_reg = LinearRegression()"
   ]
  },
  {
   "cell_type": "code",
   "execution_count": 32,
   "metadata": {},
   "outputs": [],
   "source": [
    "lin_reg.fit(X_train_preprocess, y_train)\n",
    "y_pred=lin_reg.predict(X_test_preprocess)\n"
   ]
  },
  {
   "cell_type": "code",
   "execution_count": 12,
   "metadata": {},
   "outputs": [
    {
     "data": {
      "text/plain": [
       "0.6713545227559351"
      ]
     },
     "execution_count": 12,
     "metadata": {},
     "output_type": "execute_result"
    }
   ],
   "source": [
    "lin_reg.score(X_train_preprocess,y_train)"
   ]
  },
  {
   "cell_type": "code",
   "execution_count": 13,
   "metadata": {},
   "outputs": [
    {
     "data": {
      "text/plain": [
       "0.6589865418951286"
      ]
     },
     "execution_count": 13,
     "metadata": {},
     "output_type": "execute_result"
    }
   ],
   "source": [
    "lin_reg.score(X_test_preprocess,y_test)"
   ]
  },
  {
   "cell_type": "code",
   "execution_count": 13,
   "metadata": {},
   "outputs": [],
   "source": [
    "#try knn:"
   ]
  },
  {
   "cell_type": "code",
   "execution_count": 14,
   "metadata": {},
   "outputs": [],
   "source": [
    "\n",
    "#initialize the model:\n",
    "neigh=KNeighborsRegressor()\n",
    "\n",
    "#define the parameters to test the model with \n",
    "param_grid_knn={\"n_neighbors\":range(1,5),\n",
    "            \"algorithm\":[\"ball_tree\",\"kd_tree\",\"brute\"],\n",
    "            \"weights\":[\"uniform\",\"distance\"],\n",
    "            \"p\":[1,2]\n",
    "            }\n",
    "\n",
    "# define grid search\n",
    "neigh_search = GridSearchCV(estimator=neigh, #kind of model\n",
    "                            param_grid=param_grid_knn, # options to combine and test\n",
    "                            scoring=\"r2\", #how to score each test\n",
    "                            cv=5) #number of folds to dive the data into\n"
   ]
  },
  {
   "cell_type": "code",
   "execution_count": 15,
   "metadata": {},
   "outputs": [
    {
     "data": {
      "text/plain": [
       "GridSearchCV(cv=5, estimator=KNeighborsRegressor(),\n",
       "             param_grid={'algorithm': ['ball_tree', 'kd_tree', 'brute'],\n",
       "                         'n_neighbors': range(1, 5), 'p': [1, 2],\n",
       "                         'weights': ['uniform', 'distance']},\n",
       "             scoring='r2')"
      ]
     },
     "execution_count": 15,
     "metadata": {},
     "output_type": "execute_result"
    }
   ],
   "source": [
    "neigh_search.fit(X_train_preprocess, y_train)"
   ]
  },
  {
   "cell_type": "code",
   "execution_count": 16,
   "metadata": {},
   "outputs": [
    {
     "data": {
      "text/plain": [
       "0.7501674694236035"
      ]
     },
     "execution_count": 16,
     "metadata": {},
     "output_type": "execute_result"
    }
   ],
   "source": [
    "pred_neigh_test= neigh_search.predict(X_test_preprocess)\n",
    "\n",
    "mean_squared_error(y_test, y_pred, squared=False)"
   ]
  },
  {
   "cell_type": "code",
   "execution_count": 17,
   "metadata": {},
   "outputs": [
    {
     "data": {
      "text/plain": [
       "0.660020310334883"
      ]
     },
     "execution_count": 17,
     "metadata": {},
     "output_type": "execute_result"
    }
   ],
   "source": [
    "r2_score(y_test, y_pred)"
   ]
  },
  {
   "cell_type": "code",
   "execution_count": 18,
   "metadata": {},
   "outputs": [
    {
     "data": {
      "text/plain": [
       "0.9917454281201865"
      ]
     },
     "execution_count": 18,
     "metadata": {},
     "output_type": "execute_result"
    }
   ],
   "source": [
    "#using a decision tree for baseline modelling \n",
    "\n",
    "tree = DecisionTreeRegressor()\n",
    "tree.fit(X_train_preprocess, y_train)\n",
    "y_pred =tree.predict(X_test_preprocess)\n",
    "\n",
    "mean_squared_error(y_test, y_pred, squared=False)"
   ]
  },
  {
   "cell_type": "code",
   "execution_count": 19,
   "metadata": {},
   "outputs": [
    {
     "data": {
      "text/plain": [
       "0.4057941369256154"
      ]
     },
     "execution_count": 19,
     "metadata": {},
     "output_type": "execute_result"
    }
   ],
   "source": [
    "r2_score(y_test, y_pred)"
   ]
  },
  {
   "cell_type": "code",
   "execution_count": 20,
   "metadata": {},
   "outputs": [],
   "source": [
    "val_pred =tree.predict(X_val_preprocess)"
   ]
  },
  {
   "cell_type": "code",
   "execution_count": 21,
   "metadata": {},
   "outputs": [
    {
     "data": {
      "text/plain": [
       "array([ 8.,  7., 11.,  8.,  8.,  8.,  7.,  8.,  8.,  7.,  6.,  9.,  7.,\n",
       "        8.,  7.,  7., 10.,  8.,  8.,  8.,  7.,  8.,  8.,  7.,  7.,  6.,\n",
       "        7.,  7.,  6.,  8.,  8.,  7.,  8.,  8.,  8.,  9.,  8.,  9.,  7.,\n",
       "        7.,  7.,  6.,  9.,  8.,  8.,  8.,  8.,  9.,  9.,  7.,  7.,  8.,\n",
       "        8.,  7.,  8.,  7.,  7.,  7.,  8.,  8.,  8.,  8.,  7.,  9.,  7.,\n",
       "        7.,  7.,  7.,  8.,  8.,  9.,  9.,  8.,  7.,  9.,  8., 10.,  9.,\n",
       "        7.,  8.,  7.,  7.,  7.,  7.,  6., 10., 10.,  7.,  7.,  9.,  9.,\n",
       "        8.,  7.,  8.,  7.,  8.,  8.,  8.,  8.,  7.,  8.,  6.,  9.,  7.,\n",
       "        8.,  9.,  7.,  7.,  7.,  8.,  7.,  7.,  7.,  7.,  8.,  9.,  8.,\n",
       "        8.,  8.,  7.,  7.,  8.,  9.,  8.,  8.,  7.,  7.,  8.,  7.,  7.,\n",
       "        7.,  7.,  6.,  7.,  7.,  9.,  6.,  8.,  7.,  7.,  6.,  6.,  6.,\n",
       "        7.,  8.,  8.,  7.,  7.,  9., 10.,  7.,  7.,  8.,  7.,  7.,  8.,\n",
       "        8.,  7.,  9.,  8.,  7.,  8.,  7.,  9.,  8.,  7.,  6.,  7.,  7.,\n",
       "        9.,  7.,  6.,  7.,  8.,  7.,  7.,  9.,  7.,  8.,  9.,  7.,  9.,\n",
       "        8.,  7.,  8.,  7.,  8.,  7.,  7.,  7.,  8.,  7.,  7.,  7.,  8.,\n",
       "        8.,  7.,  7., 10.,  8.,  8.,  9.,  9.,  7.,  9.,  8.,  7.,  8.,\n",
       "        7.,  7.,  8.,  7.,  6.,  7.,  5.,  8.,  9.,  8.,  8.,  9.,  9.,\n",
       "        7.,  7.,  8.,  7.,  8.,  6.,  7.,  8.,  8.,  7.,  8.,  6.,  7.,\n",
       "        7.,  9.,  9.,  7.,  9.,  8.,  7., 11.,  8.,  7.,  9.,  7.,  8.,\n",
       "        8.,  7.,  8.,  6.,  8.,  6.,  8.,  7., 10.,  8.,  7.,  7., 10.,\n",
       "        9.,  9.,  7.,  9.,  8.,  8.,  7.,  8.,  7.,  8.,  9.,  7.,  7.,\n",
       "        8.,  9.,  7.,  8.,  8.,  9., 10.,  5.,  8.,  8.,  8.,  8.,  7.,\n",
       "        8.,  7.,  9.,  7.,  9.,  9.,  7.,  7.,  8.,  7.,  8.,  5.,  8.,\n",
       "        7.,  7.,  9.,  6.,  8.,  8.,  8.,  9.,  7.,  9.,  8.,  8.,  7.,\n",
       "        9.,  7.,  7.,  9.,  6.,  9.,  8.,  9.,  8.,  8.,  8.,  8.,  8.,\n",
       "        8.,  7.,  8.,  9.,  8.,  7.,  8., 10.,  5.,  8.,  7.,  8.,  8.,\n",
       "        7.,  6.,  9.,  6.,  7.,  9.,  9.,  7.,  7.,  7.,  8.,  8.,  7.,\n",
       "        8.,  9.,  7.,  7.,  8.,  8.,  7.,  8.,  9.,  8.,  8.,  8.,  7.,\n",
       "        8.,  9.,  9.,  9.,  7.,  9.,  9.,  8.,  8.,  8.,  7.,  9.,  7.,\n",
       "        8.,  8.,  9., 10.,  8.,  8.,  8., 10.,  9.,  6.,  8.,  9.,  8.,\n",
       "        7.,  8.,  8.,  9.,  9.,  8.,  7.,  8.,  7.,  9.,  8.,  9.,  8.,\n",
       "        9.,  9.,  8.,  7.,  8., 10.,  8.,  8.,  8.,  8.,  8.,  8.,  7.,\n",
       "        9.,  7.,  9.,  8.,  9.,  7.,  9.,  7.,  9.,  6.,  9.,  7.,  8.,\n",
       "        7.,  9.,  8.,  7.,  9.,  9.,  8.,  9.,  8.,  8.,  8.,  8., 10.,\n",
       "        8.,  8.,  7.,  8.,  8.,  7.,  8.,  9.,  8.,  8.,  7.,  6.,  8.,\n",
       "        6.,  8.,  9.,  8.,  8.,  7.,  8.,  9.,  6.,  9.,  8.,  8.,  8.,\n",
       "        9.,  7., 10., 10.,  7.,  6.,  7., 10.,  8.,  7.,  7., 10.,  9.,\n",
       "        7.,  8.,  7.,  7.,  8.,  8.,  8.,  8.,  6.,  7.,  8.,  8.,  9.,\n",
       "        7.,  8.,  8.,  9.,  7.,  8.,  7.,  7.,  8.,  7.,  8.,  7.,  7.,\n",
       "        8.,  8.,  7.,  7.,  7.,  7.,  7.,  9.,  6.,  8.,  8.,  8.,  9.,\n",
       "        8.,  8.,  7.,  9.,  7.,  8.,  9.,  8.,  8.,  8.,  8.,  7.,  8.,\n",
       "        7.,  7.,  8.,  8.,  7.,  8.,  7.,  7., 10., 10.,  8., 10.,  7.,\n",
       "        7.,  7.,  9.,  8.,  8.,  9.,  8.,  9.,  6.,  7.,  8., 10.,  7.,\n",
       "        8.,  8.,  8.,  9.,  7.,  7.,  7.,  7.,  7.,  7.,  7.,  7.,  9.,\n",
       "        9.,  8.,  8.,  8.,  8.,  7.,  7.,  8.,  7.,  9.,  9.,  8.,  7.,\n",
       "       10.,  9.,  7.,  8.,  7.,  8., 10.,  8.,  7.,  7.,  7.,  8.,  8.,\n",
       "        8.,  7.,  9.,  9.,  8.,  9.,  8.,  7.,  7.,  8.,  7.,  8.,  6.,\n",
       "        7.,  8.,  7.,  7.,  7.,  7.,  7.,  6.,  6.,  6.,  7.,  8.,  9.,\n",
       "        8.,  9.,  8.,  8.,  7.,  8.,  9.,  9.,  8.,  7., 10.,  8.,  9.,\n",
       "        7.,  8.,  8.,  8.,  9.,  9.,  8.,  6.,  8.,  8.,  8.,  9.,  8.,\n",
       "        9.,  7.,  7.,  8.,  9.,  9.,  7.,  8., 10.,  9.,  8.,  8.,  7.,\n",
       "        8.,  5.,  5.,  6.,  8.,  7.,  9.,  9.,  7.,  8.,  6.,  7., 10.,\n",
       "        8.,  8.,  8.,  9.,  7.,  8., 10.,  7.,  7.,  8.,  9.,  7.,  7.,\n",
       "        8.,  8.,  8.,  8.,  7.,  9., 10.,  8.,  9.,  9.,  6.,  7.,  6.,\n",
       "        7.,  9.,  7.,  9.,  6.,  6.,  6.,  6.,  6.,  5.,  5.,  5.,  6.,\n",
       "        6.,  5.,  6.,  7.,  5.,  5.,  6.,  7.,  6.,  5.,  6.,  6.,  6.,\n",
       "        6.,  7.,  5.,  6.,  7.,  6.,  6.,  5.,  6.,  6.,  6.,  5.,  7.,\n",
       "        5.,  5.,  6.,  4.,  4.,  5.,  7.,  6.,  7.,  7.,  5.,  6.,  7.,\n",
       "        6.,  4.,  5.,  4.,  6.,  6.,  7.,  6.,  7.,  8.,  6.,  7.,  4.,\n",
       "        5.,  4.,  5.,  7.,  6.,  5.,  4.,  5.,  5.,  5.,  5.,  5.])"
      ]
     },
     "execution_count": 21,
     "metadata": {},
     "output_type": "execute_result"
    }
   ],
   "source": [
    "val_pred"
   ]
  },
  {
   "cell_type": "code",
   "execution_count": 22,
   "metadata": {},
   "outputs": [
    {
     "data": {
      "text/plain": [
       "0.9539696153857856"
      ]
     },
     "execution_count": 22,
     "metadata": {},
     "output_type": "execute_result"
    }
   ],
   "source": [
    "#using a decision tree for baseline modelling with random state!\n",
    "\n",
    "\n",
    "tree = DecisionTreeRegressor(random_state=12)\n",
    "tree.fit(X_train_preprocess, y_train)\n",
    "y_pred =tree.predict(X_test_preprocess)\n",
    "\n",
    "\n",
    "mean_squared_error(y_test, y_pred, squared=False)"
   ]
  },
  {
   "cell_type": "code",
   "execution_count": 23,
   "metadata": {},
   "outputs": [
    {
     "data": {
      "text/plain": [
       "0.4501989015211446"
      ]
     },
     "execution_count": 23,
     "metadata": {},
     "output_type": "execute_result"
    }
   ],
   "source": [
    "r2_score(y_test, y_pred)"
   ]
  },
  {
   "cell_type": "code",
   "execution_count": 24,
   "metadata": {},
   "outputs": [
    {
     "data": {
      "text/plain": [
       "0.6872111666881511"
      ]
     },
     "execution_count": 24,
     "metadata": {},
     "output_type": "execute_result"
    }
   ],
   "source": [
    "#applying a random forest model, using default options \n",
    "\n",
    "rdf = RandomForestRegressor(n_estimators=100, max_features=\"auto\",random_state=0)\n",
    "rdf.fit(X_train_preprocess, y_train)\n",
    "y_pred =rdf.predict(X_test_preprocess)\n",
    "\n",
    "mean_squared_error(y_test, y_pred, squared=False)"
   ]
  },
  {
   "cell_type": "code",
   "execution_count": 25,
   "metadata": {},
   "outputs": [
    {
     "data": {
      "text/plain": [
       "0.7146900391022308"
      ]
     },
     "execution_count": 25,
     "metadata": {},
     "output_type": "execute_result"
    }
   ],
   "source": [
    "r2_score(y_test, y_pred)"
   ]
  },
  {
   "cell_type": "code",
   "execution_count": 26,
   "metadata": {},
   "outputs": [
    {
     "data": {
      "text/plain": [
       "array([7.72, 8.25, 8.27, ..., 7.71, 7.24, 7.49])"
      ]
     },
     "execution_count": 26,
     "metadata": {},
     "output_type": "execute_result"
    }
   ],
   "source": [
    "y_pred"
   ]
  },
  {
   "cell_type": "code",
   "execution_count": 27,
   "metadata": {},
   "outputs": [],
   "source": [
    "#use random forest but choose parameters with a  grid search: \n",
    "#now not running the fit cell bellow, exhaustive grid search is too long.\n",
    "rft_2=RandomForestRegressor()\n",
    "\n",
    "#define the parameters to test the model with \n",
    "param_grid_rft={\"n_estimators\":range(150,250),\n",
    "            #\"min_samples_split\":range(1,5),\n",
    "            #\"max_samples\":[0.9,1]\n",
    "            }\n",
    "\n",
    "# define grid search\n",
    "rft_search = GridSearchCV(estimator=rft_2, #kind of model\n",
    "                            param_grid=param_grid_rft, # options to combine and test\n",
    "                            scoring=\"r2\", #how to score each test\n",
    "                            cv=5) #number of folds to dive the data into\n"
   ]
  },
  {
   "cell_type": "code",
   "execution_count": 28,
   "metadata": {},
   "outputs": [],
   "source": [
    "# too big to run them all:  rft_search.fit(X_train_preprocess, y_train)"
   ]
  },
  {
   "cell_type": "code",
   "execution_count": 29,
   "metadata": {},
   "outputs": [],
   "source": [
    "#y_pred =rft_search.predict(X_test_preprocess)\n",
    "\n",
    "#mean_squared_error(y_test, y_pred, squared=False)"
   ]
  },
  {
   "cell_type": "code",
   "execution_count": 30,
   "metadata": {},
   "outputs": [],
   "source": [
    "#use random search:\n",
    "\n",
    "rft_2=RandomForestRegressor()\n",
    "\n",
    "#define the parameters to test the model with \n",
    "param_grid_rft={\"n_estimators\":[200,300,500],\n",
    "            \"min_samples_split\":range(2,7),\n",
    "            \"max_samples\":[0.8,0.9,1]\n",
    "            }\n",
    "\n",
    "# define grid search\n",
    "rft_search_reg = RandomizedSearchCV(estimator=rft_2, #kind of model\n",
    "                            param_distributions=param_grid_rft, # options to combine and test\n",
    "                            scoring=\"r2\", #how to score each test\n",
    "                            cv=5,#number of folds to dive the data into\n",
    "                            random_state=123) \n"
   ]
  },
  {
   "cell_type": "code",
   "execution_count": 58,
   "metadata": {},
   "outputs": [],
   "source": [
    "\n",
    "#use random search with classifier. The resutls are slightly worse\n",
    "#when we predict the \"categories\" of quality, aka \n",
    "# conclussion: do not use classifiers, use regressors.\n",
    "\n",
    "rft_3=RandomForestClassifier()\n",
    "\n",
    "#define the parameters to test the model with \n",
    "param_grid_rft={\"n_estimators\":[200,300,500],\n",
    "            \"min_samples_split\":range(2,7),\n",
    "            \"max_samples\":[0.8,0.9,1]\n",
    "            }\n",
    "\n",
    "# define grid search\n",
    "rft_search_cls = RandomizedSearchCV(estimator=rft_3, #kind of model\n",
    "                            param_distributions=param_grid_rft, # options to combine and test\n",
    "                            scoring=\"neg_root_mean_squared_error\", #how to score each test\n",
    "                            cv=5,#number of folds to dive the data into\n",
    "                            random_state=123) \n"
   ]
  },
  {
   "cell_type": "code",
   "execution_count": 59,
   "metadata": {},
   "outputs": [
    {
     "data": {
      "text/plain": [
       "RandomizedSearchCV(cv=5, estimator=RandomForestRegressor(),\n",
       "                   param_distributions={'max_samples': [0.8, 0.9, 1],\n",
       "                                        'min_samples_split': range(2, 7),\n",
       "                                        'n_estimators': [200, 300, 500]},\n",
       "                   random_state=123, scoring='r2')"
      ]
     },
     "execution_count": 59,
     "metadata": {},
     "output_type": "execute_result"
    }
   ],
   "source": [
    "rft_search_reg.fit(X_train_preprocess, y_train)"
   ]
  },
  {
   "cell_type": "code",
   "execution_count": 60,
   "metadata": {},
   "outputs": [],
   "source": [
    "# do not run classifiers: rft_search_cls.fit(X_train_preprocess, y_train)"
   ]
  },
  {
   "cell_type": "code",
   "execution_count": 61,
   "metadata": {},
   "outputs": [],
   "source": [
    "# do not run classifiers: rft_search_cls.best_estimator_"
   ]
  },
  {
   "cell_type": "code",
   "execution_count": 62,
   "metadata": {},
   "outputs": [
    {
     "data": {
      "text/plain": [
       "RandomForestRegressor(max_samples=0.9, min_samples_split=3, n_estimators=200)"
      ]
     },
     "execution_count": 62,
     "metadata": {},
     "output_type": "execute_result"
    }
   ],
   "source": [
    "rft_search_reg.best_estimator_"
   ]
  },
  {
   "cell_type": "code",
   "execution_count": 85,
   "metadata": {},
   "outputs": [
    {
     "data": {
      "text/plain": [
       "{'n_estimators': 200, 'min_samples_split': 3, 'max_samples': 0.9}"
      ]
     },
     "execution_count": 85,
     "metadata": {},
     "output_type": "execute_result"
    }
   ],
   "source": [
    "rft_search_reg.best_params_\n"
   ]
  },
  {
   "cell_type": "code",
   "execution_count": 63,
   "metadata": {},
   "outputs": [],
   "source": [
    "\n",
    "y_pred_reg =rft_search_reg.predict(X_test_preprocess)\n",
    "#testing classifiers and rounding: COnclussions, best stay with regression:\n",
    "#y_round=y_pred_reg.round()\n",
    "#y_pred_cls =rft_search_cls.predict(X_test_preprocess)"
   ]
  },
  {
   "cell_type": "code",
   "execution_count": 64,
   "metadata": {},
   "outputs": [],
   "source": [
    "#print(y_pred_cls,y_pred_reg)"
   ]
  },
  {
   "cell_type": "code",
   "execution_count": 65,
   "metadata": {},
   "outputs": [],
   "source": [
    "\n",
    "rmse_reg=mean_squared_error(y_test, y_pred_reg, squared=False)\n",
    "#rmse_round=mean_squared_error(y_test, y_round, squared=False)\n",
    "#rmse_cls=mean_squared_error(y_test, y_pred_cls, squared=False)"
   ]
  },
  {
   "cell_type": "code",
   "execution_count": 66,
   "metadata": {},
   "outputs": [
    {
     "name": "stdout",
     "output_type": "stream",
     "text": [
      "0.6887708812171783\n"
     ]
    }
   ],
   "source": [
    "print(rmse_reg)"
   ]
  },
  {
   "cell_type": "code",
   "execution_count": 67,
   "metadata": {},
   "outputs": [
    {
     "data": {
      "text/plain": [
       "0.7133934737733953"
      ]
     },
     "execution_count": 67,
     "metadata": {},
     "output_type": "execute_result"
    }
   ],
   "source": [
    "r2_score(y_test, y_pred_reg)"
   ]
  },
  {
   "cell_type": "code",
   "execution_count": 105,
   "metadata": {},
   "outputs": [],
   "source": [
    "# try to with gradient boot, \n",
    "#to tune the parameters:\n"
   ]
  },
  {
   "cell_type": "code",
   "execution_count": 78,
   "metadata": {},
   "outputs": [],
   "source": [
    "#use random search for gradient boosting:\n",
    "\n",
    "gbr_2=GradientBoostingRegressor()\n",
    "\n",
    "#define the parameters to test the model with \n",
    "param_grid_gbr_2={\"loss\":[\"ls\", \"lad\", \"huber\", \"quantile\"],\n",
    "                  \"learning_rate\":[0.1,0.2],\n",
    "                  \"n_estimators\":[300,500], #Gradient boosting is fairly robust to over-fitting so a large number usually results in better performance.\n",
    "                \"criterion\": [\"mse\"],\n",
    "                  \"min_samples_split\":range(2,7)\n",
    "            #\"max_samples\":[0.8,0.9,1]\n",
    "            }\n",
    "\n",
    "# define grid search\n",
    "gbr_search = RandomizedSearchCV(estimator=gbr_2, #kind of model\n",
    "                            param_distributions=param_grid_gbr_2, # options to combine and test\n",
    "                            scoring=\"neg_root_mean_squared_error\", #how to score each test\n",
    "                            cv=5,#number of folds to dive the data into\n",
    "                            random_state=123) "
   ]
  },
  {
   "cell_type": "code",
   "execution_count": 79,
   "metadata": {},
   "outputs": [
    {
     "data": {
      "text/plain": [
       "RandomizedSearchCV(cv=5, estimator=GradientBoostingRegressor(),\n",
       "                   param_distributions={'criterion': ['mse'],\n",
       "                                        'learning_rate': [0.1, 0.2],\n",
       "                                        'loss': ['ls', 'lad', 'huber',\n",
       "                                                 'quantile'],\n",
       "                                        'min_samples_split': range(2, 7),\n",
       "                                        'n_estimators': [300, 500]},\n",
       "                   random_state=123, scoring='neg_root_mean_squared_error')"
      ]
     },
     "execution_count": 79,
     "metadata": {},
     "output_type": "execute_result"
    }
   ],
   "source": [
    "gbr_search.fit(X_train_preprocess, y_train)"
   ]
  },
  {
   "cell_type": "code",
   "execution_count": 80,
   "metadata": {},
   "outputs": [
    {
     "data": {
      "text/plain": [
       "GradientBoostingRegressor(criterion='mse', min_samples_split=4,\n",
       "                          n_estimators=300)"
      ]
     },
     "execution_count": 80,
     "metadata": {},
     "output_type": "execute_result"
    }
   ],
   "source": [
    "gbr_search.best_estimator_"
   ]
  },
  {
   "cell_type": "code",
   "execution_count": 84,
   "metadata": {},
   "outputs": [
    {
     "data": {
      "text/plain": [
       "{'n_estimators': 300,\n",
       " 'min_samples_split': 4,\n",
       " 'loss': 'ls',\n",
       " 'learning_rate': 0.1,\n",
       " 'criterion': 'mse'}"
      ]
     },
     "execution_count": 84,
     "metadata": {},
     "output_type": "execute_result"
    }
   ],
   "source": [
    "gbr_search.best_params_"
   ]
  },
  {
   "cell_type": "code",
   "execution_count": 82,
   "metadata": {},
   "outputs": [],
   "source": [
    "y_pred_reg =gbr_search.predict(X_test_preprocess)"
   ]
  },
  {
   "cell_type": "code",
   "execution_count": 83,
   "metadata": {},
   "outputs": [
    {
     "data": {
      "text/plain": [
       "0.7580388245975814"
      ]
     },
     "execution_count": 83,
     "metadata": {},
     "output_type": "execute_result"
    }
   ],
   "source": [
    "rmse_reg=mean_squared_error(y_test, y_pred_reg, squared=False)\n",
    "rmse_reg"
   ]
  },
  {
   "cell_type": "code",
   "execution_count": null,
   "metadata": {},
   "outputs": [],
   "source": []
  },
  {
   "cell_type": "code",
   "execution_count": null,
   "metadata": {},
   "outputs": [],
   "source": [
    "# try stacking:"
   ]
  },
  {
   "cell_type": "code",
   "execution_count": 44,
   "metadata": {},
   "outputs": [],
   "source": [
    "estimators_simple = [('rf', RandomForestRegressor(n_estimators=600, random_state=42)),\n",
    "               ('gb',GradientBoostingRegressor(n_estimators=600, random_state=42)),\n",
    "               (\"ab\",AdaBoostRegressor(n_estimators=70, random_state=42))\n",
    "               \n",
    "               ]"
   ]
  },
  {
   "cell_type": "code",
   "execution_count": 45,
   "metadata": {},
   "outputs": [],
   "source": [
    "estimators = [('rf', RandomForestRegressor(max_samples=0.9, min_samples_split=3, n_estimators=200, random_state=42)),\n",
    "               ('gb',GradientBoostingRegressor(criterion='mse', min_samples_split=4,\n",
    "                          n_estimators=300, random_state=42)),\n",
    "               (\"ab\",AdaBoostRegressor(n_estimators=70, random_state=42))\n",
    "               \n",
    "               ]"
   ]
  },
  {
   "cell_type": "code",
   "execution_count": 46,
   "metadata": {},
   "outputs": [],
   "source": [
    "best_reg_complex = StackingRegressor(estimators=estimators,\n",
    "                             cv=10,\n",
    "                             final_estimator=LinearRegression())"
   ]
  },
  {
   "cell_type": "code",
   "execution_count": 47,
   "metadata": {},
   "outputs": [],
   "source": [
    "best_reg_simple = StackingRegressor(estimators=estimators_simple,\n",
    "                             cv=10,\n",
    "                             final_estimator=LinearRegression())"
   ]
  },
  {
   "cell_type": "code",
   "execution_count": 48,
   "metadata": {},
   "outputs": [
    {
     "data": {
      "text/plain": [
       "StackingRegressor(cv=10,\n",
       "                  estimators=[('rf',\n",
       "                               RandomForestRegressor(max_samples=0.9,\n",
       "                                                     min_samples_split=3,\n",
       "                                                     n_estimators=200,\n",
       "                                                     random_state=42)),\n",
       "                              ('gb',\n",
       "                               GradientBoostingRegressor(criterion='mse',\n",
       "                                                         min_samples_split=4,\n",
       "                                                         n_estimators=300,\n",
       "                                                         random_state=42)),\n",
       "                              ('ab',\n",
       "                               AdaBoostRegressor(n_estimators=70,\n",
       "                                                 random_state=42))],\n",
       "                  final_estimator=LinearRegression())"
      ]
     },
     "execution_count": 48,
     "metadata": {},
     "output_type": "execute_result"
    }
   ],
   "source": [
    "best_reg_complex.fit(X_train_preprocess, y_train)"
   ]
  },
  {
   "cell_type": "code",
   "execution_count": 49,
   "metadata": {},
   "outputs": [
    {
     "data": {
      "text/plain": [
       "0.2811776343839124"
      ]
     },
     "execution_count": 49,
     "metadata": {},
     "output_type": "execute_result"
    }
   ],
   "source": [
    "y_train_pred =best_reg_complex.predict(X_train_preprocess)\n",
    "mean_squared_error(y_train, y_train_pred, squared=False)"
   ]
  },
  {
   "cell_type": "code",
   "execution_count": 50,
   "metadata": {},
   "outputs": [
    {
     "data": {
      "text/plain": [
       "0.6873776385835081"
      ]
     },
     "execution_count": 50,
     "metadata": {},
     "output_type": "execute_result"
    }
   ],
   "source": [
    "y_pred =best_reg_complex.predict(X_test_preprocess)\n",
    "\n",
    "mean_squared_error(y_test, y_pred, squared=False)"
   ]
  },
  {
   "cell_type": "code",
   "execution_count": 51,
   "metadata": {
    "scrolled": true
   },
   "outputs": [
    {
     "data": {
      "text/plain": [
       "StackingRegressor(cv=10,\n",
       "                  estimators=[('rf',\n",
       "                               RandomForestRegressor(n_estimators=600,\n",
       "                                                     random_state=42)),\n",
       "                              ('gb',\n",
       "                               GradientBoostingRegressor(n_estimators=600,\n",
       "                                                         random_state=42)),\n",
       "                              ('ab',\n",
       "                               AdaBoostRegressor(n_estimators=70,\n",
       "                                                 random_state=42))],\n",
       "                  final_estimator=LinearRegression())"
      ]
     },
     "execution_count": 51,
     "metadata": {},
     "output_type": "execute_result"
    }
   ],
   "source": [
    "best_reg_simple.fit(X_train_preprocess, y_train)"
   ]
  },
  {
   "cell_type": "code",
   "execution_count": 52,
   "metadata": {},
   "outputs": [
    {
     "data": {
      "text/plain": [
       "0.6827401559920222"
      ]
     },
     "execution_count": 52,
     "metadata": {},
     "output_type": "execute_result"
    }
   ],
   "source": [
    "y_pred =best_reg_simple.predict(X_test_preprocess)\n",
    "\n",
    "mean_squared_error(y_test, y_pred, squared=False)"
   ]
  },
  {
   "cell_type": "code",
   "execution_count": null,
   "metadata": {},
   "outputs": [],
   "source": []
  },
  {
   "cell_type": "code",
   "execution_count": 18,
   "metadata": {},
   "outputs": [
    {
     "data": {
      "text/plain": [
       "0.25379598212023796"
      ]
     },
     "execution_count": 18,
     "metadata": {},
     "output_type": "execute_result"
    }
   ],
   "source": [
    "y_train_pred =best_reg_simple.predict(X_train_preprocess)\n",
    "mean_squared_error(y_train, y_train_pred, squared=False)"
   ]
  },
  {
   "cell_type": "code",
   "execution_count": 19,
   "metadata": {},
   "outputs": [
    {
     "data": {
      "text/plain": [
       "0.96221402359232"
      ]
     },
     "execution_count": 19,
     "metadata": {},
     "output_type": "execute_result"
    }
   ],
   "source": [
    "r2_score(y_train, y_train_pred)"
   ]
  },
  {
   "cell_type": "code",
   "execution_count": 20,
   "metadata": {},
   "outputs": [
    {
     "data": {
      "text/plain": [
       "0.7137337445513928"
      ]
     },
     "execution_count": 20,
     "metadata": {},
     "output_type": "execute_result"
    }
   ],
   "source": [
    "r2_score(y_test, y_pred)"
   ]
  },
  {
   "cell_type": "code",
   "execution_count": 37,
   "metadata": {},
   "outputs": [],
   "source": [
    "val_pred_clean =best_reg_simple.predict(X_val_preprocess_clean)"
   ]
  },
  {
   "cell_type": "code",
   "execution_count": 38,
   "metadata": {},
   "outputs": [
    {
     "data": {
      "text/plain": [
       "array([6.96933811, 7.67025036, 7.72894204, 8.00335464, 7.623701  ,\n",
       "       7.49459082, 8.05385843, 6.9520279 , 7.6201526 , 7.61640267,\n",
       "       7.1681835 , 7.57090462, 7.19749949, 7.32936832, 7.96583478,\n",
       "       7.34972619, 8.22336871, 7.5198494 , 7.80216626, 8.16364476,\n",
       "       8.04785533, 8.36101464, 8.39575204, 7.89277183, 7.23227152,\n",
       "       6.70104139, 7.37852089, 7.13087578, 6.74048188, 7.15727681,\n",
       "       7.4639006 , 7.80899273, 7.16089614, 7.48940862, 8.1687467 ,\n",
       "       8.33185737, 8.63977474, 8.05853092, 6.78436311, 7.36414791,\n",
       "       8.15717717, 7.58187889, 8.00163666, 7.11044707, 7.3554898 ,\n",
       "       7.37337061, 7.14608352, 8.02477872, 7.56286909, 7.44267115,\n",
       "       6.84628897, 7.47743687, 7.34374376, 7.47096556, 7.62428294,\n",
       "       7.89819299, 7.55649729, 7.2239209 , 8.0290278 , 8.19540474,\n",
       "       7.54770011, 7.55624721, 7.37972666, 8.47374176, 7.88592897,\n",
       "       8.01527896, 7.04987668, 7.62003507, 7.40274972, 7.93919402,\n",
       "       7.70045981, 8.23483754, 7.12177999, 6.58509265, 7.83900911,\n",
       "       7.84075277, 8.0881908 , 7.62258448, 7.21890146, 7.7382401 ,\n",
       "       7.53767581, 7.76252647, 7.25157573, 7.52225052, 6.85807066,\n",
       "       7.52551563, 7.52551563, 7.95605155, 7.88411895, 8.39934897,\n",
       "       8.47743684, 7.09603173, 7.81090385, 7.41549032, 7.25478777,\n",
       "       7.55729062, 7.4498025 , 8.06935584, 7.54577744, 7.01900448,\n",
       "       8.40378984, 7.52952297, 8.75760278, 7.93003835, 8.33074521,\n",
       "       7.26500194, 7.20918349, 7.08159046, 7.57522499, 8.2831811 ,\n",
       "       7.77064055, 6.96672011, 7.0637859 , 7.49904111, 7.54505885,\n",
       "       7.35818365, 7.81690761, 7.81690761, 8.74725537, 7.52663352,\n",
       "       7.84034845, 7.66307069, 6.96032373, 7.40714878, 8.30503373,\n",
       "       7.4367593 , 7.3407108 , 7.63838202, 7.00560645, 8.04714207,\n",
       "       7.0351324 , 8.19505664, 7.01155386, 6.43776642, 7.0669487 ,\n",
       "       8.30154076, 7.09961641, 7.82192929, 7.61545495, 7.61545495,\n",
       "       7.19792558, 7.19792558, 6.9138001 , 7.43308165, 6.95571062,\n",
       "       7.32114519, 7.71259513, 8.99785285, 8.5969946 , 8.45668305,\n",
       "       7.10347107, 7.98531972, 7.67903002, 7.21796919, 7.20847422,\n",
       "       7.18572634, 8.01690092, 7.21454935, 8.5912614 , 8.77015834,\n",
       "       8.01501701, 7.87755145, 7.16586909, 8.02590598, 7.51101454,\n",
       "       7.6425202 , 7.42600696, 7.65849473, 7.51705289, 8.21402147,\n",
       "       8.05511796, 7.34952747, 7.30543452, 7.39278998, 7.33623877,\n",
       "       7.84570831, 8.06908463, 7.81973367, 8.2013441 , 8.41427368,\n",
       "       7.08375496, 7.47235984, 7.52320672, 7.23937995, 7.19986596,\n",
       "       7.07823361, 8.15047623, 7.13460483, 7.07767496, 7.53111812,\n",
       "       7.35955418, 7.00125491, 7.95245339, 6.95151329, 7.73281049,\n",
       "       7.82072013, 7.10228436, 7.10228436, 8.822136  , 8.11625119,\n",
       "       7.30830629, 8.75696312, 8.79763513, 7.42097678, 8.71692456,\n",
       "       7.45710921, 6.96892753, 7.40859368, 7.0592886 , 8.03814247,\n",
       "       7.30778933, 7.16408581, 6.40710602, 7.94046383, 6.93274521,\n",
       "       7.35126254, 7.52654745, 7.88461344, 7.00697448, 6.86781617,\n",
       "       6.86781617, 7.11313896, 7.05539496, 7.63492597, 7.84197686,\n",
       "       7.18791452, 7.58863228, 6.91053789, 7.80307366, 7.74072185,\n",
       "       7.57459849, 7.1720741 , 7.13232145, 8.15999361, 7.28656996,\n",
       "       8.99663217, 8.97764223, 7.42737411, 8.42420334, 7.64572824,\n",
       "       7.34569164, 8.18740395, 7.36719576, 7.13471643, 7.56441701,\n",
       "       6.94847071, 7.67930989, 7.86856566, 7.99473102, 7.46161458,\n",
       "       7.29359319, 7.78110185, 6.44623901, 7.56507053, 7.34558888,\n",
       "       8.36166197, 7.41516246, 7.1860325 , 6.87346204, 8.05982577,\n",
       "       7.69451975, 6.97669787, 7.29796946, 8.44187771, 8.07380239,\n",
       "       7.89038314, 7.39285131, 7.7170214 , 7.58350932, 7.56296859,\n",
       "       8.73037584, 7.73495903, 7.33909317, 7.2641805 , 8.77332539,\n",
       "       7.11437098, 7.76706936, 8.35649447, 7.98268383, 8.8973638 ,\n",
       "       7.23384559, 7.92031074, 7.32665828, 7.95997139, 8.3477027 ,\n",
       "       7.93392941, 7.94461041, 7.05581155, 8.78729981, 7.12906268,\n",
       "       8.64558031, 8.32521874, 7.73904778, 7.62263745, 7.36283244,\n",
       "       8.26470689, 8.38485005, 7.07830032, 7.18096029, 7.74040632,\n",
       "       7.93270446, 7.24766464, 7.2901631 , 6.92092626, 7.89102165,\n",
       "       8.28308545, 8.78335046, 8.74075692, 8.09090533, 7.80774708,\n",
       "       8.64351532, 7.43342083, 8.48517818, 7.49803875, 7.85146192,\n",
       "       7.145511  , 7.19826186, 7.06917151, 7.54121185, 8.45968347,\n",
       "       7.38233444, 7.56445314, 7.56445314, 7.9815689 , 7.76239503,\n",
       "       7.86267974, 8.07599151, 8.03115885, 8.00863246, 8.418163  ,\n",
       "       6.81097107, 8.49124381, 8.0460782 , 6.6099354 , 8.05248536,\n",
       "       7.88654578, 8.12219642, 8.004378  , 8.94682212, 7.93449191,\n",
       "       7.09120599, 7.78271309, 7.39381946, 8.71256923, 8.71256923,\n",
       "       7.63001682, 8.26558065, 7.21067812, 7.60846631, 7.72548976,\n",
       "       7.43045863, 7.74153021, 7.44545923, 8.1539717 , 9.04255642,\n",
       "       7.74153021, 7.5730918 , 7.63087791, 7.7841804 , 8.12937579,\n",
       "       7.7171748 , 7.85927571, 7.27790292, 7.54377639, 7.85927571,\n",
       "       7.90804046, 7.29243738, 7.55877355, 7.95722251, 7.62271724,\n",
       "       8.14829599, 8.3651938 , 7.68480293, 7.82144026, 7.05771359,\n",
       "       8.63537181, 7.45096588, 8.84503772, 8.5922648 , 9.01530248,\n",
       "       7.61708614, 8.31332561, 7.45291392, 8.04230187, 7.86373397,\n",
       "       8.03144336, 7.7412086 , 9.00493219, 8.40295342, 7.41755998,\n",
       "       8.29753208, 8.01625769, 8.01625769, 8.54655929, 8.20354971,\n",
       "       8.25932918, 7.00756604, 7.25959072, 8.21044502, 8.38947264,\n",
       "       8.37484274, 7.38674092, 8.14565588, 8.4947358 , 8.73403356,\n",
       "       8.22193638, 7.44482239, 7.54270495, 8.28935182, 7.5907943 ,\n",
       "       8.24640434, 8.11067639, 7.28764343, 8.03542311, 7.28764343,\n",
       "       7.70682206, 8.74349953, 7.14631673, 8.04559066, 8.33561991,\n",
       "       8.0633364 , 8.09586348, 8.8437922 , 7.57902324, 8.90873875,\n",
       "       7.42157044, 8.4847168 , 7.51853386, 7.36982438, 7.85119193,\n",
       "       8.57162407, 7.8531827 , 7.61961456, 8.21817235, 8.87751113,\n",
       "       7.34646016, 8.38903062, 7.86480933, 8.57470011, 7.48978934,\n",
       "       7.77975672, 8.89746476, 8.42264108, 8.42264108, 7.40529543,\n",
       "       9.02179192, 7.66780665, 7.25975479, 7.58206473, 8.61150774,\n",
       "       7.97279341, 7.69100903, 7.48195872, 7.52705271, 8.42796902,\n",
       "       7.35438721, 8.42796902, 8.03948856, 7.66238142, 7.66238142,\n",
       "       7.91176761, 8.05248291, 8.74849452, 8.19635745, 8.12562296,\n",
       "       7.41395177, 7.85673123, 7.41395177, 7.62215058, 7.15293856,\n",
       "       8.55375346, 8.41070326, 8.43198048, 7.54630455, 7.84658662,\n",
       "       7.79131463, 8.02890958, 7.23472552, 8.48530418, 9.2463606 ,\n",
       "       8.56666249, 8.10034151, 7.25696438, 7.21713044, 7.30631205,\n",
       "       8.2560035 , 7.8553472 , 7.71805495, 7.91590948, 8.10817561,\n",
       "       7.01951771, 7.48426857, 7.67748524, 8.71013265, 7.8709998 ,\n",
       "       8.74351539, 8.53658836, 7.89191762, 7.17982926, 7.23260276,\n",
       "       6.93396686, 6.92939882, 7.28934457, 8.09723373, 8.78925794,\n",
       "       7.36765337, 7.44372152, 9.00278494, 8.88415156, 8.80051175,\n",
       "       8.00108926, 8.86458392, 7.25047226, 7.21155283, 8.59112717,\n",
       "       7.6303662 , 7.93354817, 7.55910901, 7.6616315 , 8.55525994,\n",
       "       7.85270818, 7.97003307, 7.23528263, 7.72097931, 8.36723339,\n",
       "       8.99977598, 8.3445229 , 8.32352206, 7.47119729, 7.98249598,\n",
       "       7.50483495, 7.34778676, 8.89436445, 7.50986011, 7.50986011,\n",
       "       7.68488495, 7.92279724, 7.61793085, 7.89593026, 7.61793085,\n",
       "       8.11153434, 8.65714613, 7.76655513, 7.47859967, 8.88880097,\n",
       "       7.3239792 , 7.3239792 , 8.42345289, 7.96783699, 9.02859444,\n",
       "       7.62320755, 7.21169911, 8.08278896, 7.96848703, 7.60189406,\n",
       "       7.23475461, 7.73158194, 8.01421637, 7.16101141, 7.34568228,\n",
       "       8.42118466, 7.73445146, 8.24363633, 7.36790166, 7.25812028,\n",
       "       7.11204749, 7.03610902, 7.03610902, 7.56905128, 7.34872711,\n",
       "       7.34872711, 8.08364193, 8.08364193, 7.86137467, 7.61245132,\n",
       "       7.88823179, 7.54804329, 7.25209057, 7.3351873 , 8.16888679,\n",
       "       7.09453867, 6.73564227, 8.42488614, 8.06365539, 7.05119423,\n",
       "       8.53134885, 8.01390466, 7.12523489, 8.12036359, 7.28093657,\n",
       "       8.13214813, 8.3184127 , 8.13214813, 8.09669847, 7.54134499,\n",
       "       7.23063362, 7.80911457, 7.83859847, 8.18177242, 8.87563877,\n",
       "       8.36704983, 8.85349397, 7.52220585, 8.19122338, 7.67119424,\n",
       "       8.13618306, 7.33273215, 6.99440871, 7.0889397 , 7.63933163,\n",
       "       7.46633138, 7.95436787, 8.23625108, 7.88547817, 7.79920808,\n",
       "       7.43038769, 7.42356163, 7.42356163, 7.84722166, 7.64631996,\n",
       "       7.64631996, 7.62179483, 8.07545269, 8.24080252, 6.96260688,\n",
       "       8.36419006, 7.39756853, 7.39756853, 7.27912102, 7.86797142,\n",
       "       7.55860462, 8.53838365, 7.37762369, 7.40250364, 8.29344869,\n",
       "       7.19295941, 8.45574379, 6.94257725, 7.86848295, 8.03330899,\n",
       "       7.5820189 , 7.65453327, 8.69330067, 8.07283476, 7.17211006,\n",
       "       8.22875051, 8.22065156, 8.06685282, 8.68329095, 8.0843181 ,\n",
       "       8.86489303, 7.45666453, 8.59908986, 7.98993705, 8.43555379,\n",
       "       8.4894128 , 6.86506175, 8.15264445, 8.33905997, 8.2466647 ,\n",
       "       8.16881499, 7.55623276, 6.66385575, 7.82020024, 7.65984363,\n",
       "       7.65984363, 6.73116668, 8.09389418, 7.79413177, 7.38158516,\n",
       "       8.40565338, 7.51728526, 7.98732178, 8.02007371, 7.14472306,\n",
       "       8.35601088, 8.12164301, 8.7502005 , 7.54725259, 8.29355376,\n",
       "       7.25638059, 7.99076813, 7.48307193, 7.45485326, 8.3037653 ,\n",
       "       7.91215652, 8.54977298, 7.22188354, 7.58262382, 7.49203153,\n",
       "       7.49203153, 8.41243252, 7.95197998, 7.29151782, 8.23302128,\n",
       "       8.42806535, 7.53943774, 8.50242648, 8.54075388, 6.51444569,\n",
       "       7.20239691, 7.59570094, 7.24504684, 8.45580204, 8.33215195,\n",
       "       9.22581292, 5.1035404 , 5.27567238, 5.26293281, 5.20835585,\n",
       "       5.16786794, 5.23714951, 5.11782858, 5.1187762 , 5.58078123,\n",
       "       5.43612397, 4.80974997, 5.00559521, 5.87055189, 5.54851369,\n",
       "       5.11291577, 5.8543805 , 6.75509855, 6.46668469, 4.55431944,\n",
       "       5.72782737, 5.74533833, 5.76777407, 5.76842159, 5.41806381,\n",
       "       5.69229747, 6.0197367 , 6.19650424, 5.50619191, 6.1674395 ,\n",
       "       5.1719068 , 5.64559583, 5.33763162, 5.81805677, 4.92959289,\n",
       "       5.38060177, 5.07302241, 5.64869659, 6.30148173, 5.54698761,\n",
       "       4.88100306, 4.65145927, 6.39174651, 5.68201202, 6.13492481,\n",
       "       6.9846147 , 4.90433601, 6.26926612, 6.11776775, 5.10482951,\n",
       "       5.94023263, 5.02999222, 4.95203795, 5.14443806, 5.9064264 ,\n",
       "       6.15010185, 5.93741171, 6.15840142, 6.21925029, 5.39124392,\n",
       "       5.5880865 , 5.52500861, 5.11745442, 4.67751974, 5.33123131,\n",
       "       6.97126398, 5.40384955, 5.52287305, 4.47909495, 4.99364881,\n",
       "       5.32649324, 5.10533824, 4.88620965, 5.50462148])"
      ]
     },
     "execution_count": 38,
     "metadata": {},
     "output_type": "execute_result"
    }
   ],
   "source": [
    "val_pred_clean"
   ]
  },
  {
   "cell_type": "code",
   "execution_count": 39,
   "metadata": {},
   "outputs": [],
   "source": [
    "val_pred =best_reg_simple.predict(X_val_preprocess)\n"
   ]
  },
  {
   "cell_type": "code",
   "execution_count": 40,
   "metadata": {},
   "outputs": [
    {
     "data": {
      "text/plain": [
       "array([6.96933811, 7.67025036, 7.72894204, 8.00335464, 7.623701  ,\n",
       "       7.49459082, 8.05385843, 6.9520279 , 7.6201526 , 7.61640267,\n",
       "       7.1681835 , 7.57090462, 7.19749949, 7.32936832, 7.96583478,\n",
       "       7.34972619, 8.22336871, 7.5198494 , 7.80216626, 8.16364476,\n",
       "       8.04785533, 8.36101464, 8.39575204, 7.89277183, 7.23227152,\n",
       "       6.70104139, 7.37852089, 7.13087578, 6.74048188, 7.15727681,\n",
       "       7.4639006 , 7.80899273, 7.16089614, 7.48940862, 8.1687467 ,\n",
       "       8.33185737, 8.63977474, 8.05853092, 6.78436311, 7.36414791,\n",
       "       8.15717717, 7.58187889, 8.00163666, 7.11044707, 7.3554898 ,\n",
       "       7.37337061, 7.14608352, 8.02477872, 7.56286909, 7.44267115,\n",
       "       6.84628897, 7.47743687, 7.34374376, 7.47096556, 7.62428294,\n",
       "       7.89819299, 7.55649729, 7.2239209 , 8.0290278 , 8.19540474,\n",
       "       7.54770011, 7.55624721, 7.37972666, 8.47374176, 7.88592897,\n",
       "       8.01527896, 7.04987668, 7.62003507, 7.40274972, 7.93919402,\n",
       "       7.70045981, 8.23483754, 7.12177999, 6.58509265, 7.83900911,\n",
       "       7.84075277, 8.0881908 , 7.62258448, 7.21890146, 7.7382401 ,\n",
       "       7.53767581, 7.76252647, 7.25157573, 7.52225052, 6.85807066,\n",
       "       7.52551563, 7.52551563, 7.95605155, 7.88411895, 8.39934897,\n",
       "       8.47743684, 7.09603173, 7.81090385, 7.41549032, 7.25478777,\n",
       "       7.55729062, 7.4498025 , 8.06935584, 7.54577744, 7.01900448,\n",
       "       8.40378984, 7.52952297, 8.75760278, 7.93003835, 8.33074521,\n",
       "       7.26500194, 7.20918349, 7.08159046, 7.57522499, 8.2831811 ,\n",
       "       7.77064055, 6.96672011, 7.0637859 , 7.49904111, 7.54505885,\n",
       "       7.35818365, 7.81690761, 7.81690761, 8.74725537, 7.52663352,\n",
       "       7.84034845, 7.66307069, 6.96032373, 7.40714878, 8.30503373,\n",
       "       7.4367593 , 7.3407108 , 7.63838202, 7.00560645, 8.04714207,\n",
       "       7.0351324 , 8.19505664, 7.01155386, 6.43776642, 7.0669487 ,\n",
       "       8.30154076, 7.09961641, 7.82192929, 7.61545495, 7.61545495,\n",
       "       7.19792558, 7.19792558, 6.9138001 , 7.43308165, 6.95571062,\n",
       "       7.32114519, 7.71259513, 8.99785285, 8.5969946 , 8.45668305,\n",
       "       7.10347107, 7.98531972, 7.67903002, 7.21796919, 7.20847422,\n",
       "       7.18572634, 8.01690092, 7.21454935, 8.5912614 , 8.77015834,\n",
       "       8.01501701, 7.87755145, 7.16586909, 8.02590598, 7.51101454,\n",
       "       7.6425202 , 7.42600696, 7.65849473, 7.51705289, 8.21402147,\n",
       "       8.05511796, 7.34952747, 7.30543452, 7.39278998, 7.33623877,\n",
       "       7.84570831, 8.06908463, 7.81973367, 8.2013441 , 8.41427368,\n",
       "       7.08375496, 7.47235984, 7.52320672, 7.23937995, 7.19986596,\n",
       "       7.07823361, 8.15047623, 7.13460483, 7.07767496, 7.53111812,\n",
       "       7.35955418, 7.00125491, 7.95245339, 6.95151329, 7.73281049,\n",
       "       7.82072013, 7.10228436, 7.10228436, 8.822136  , 8.11625119,\n",
       "       7.30830629, 8.75696312, 8.79763513, 7.42097678, 8.71692456,\n",
       "       7.45710921, 6.96892753, 7.40859368, 7.0592886 , 8.03814247,\n",
       "       7.30778933, 7.16408581, 6.40710602, 7.94046383, 6.93274521,\n",
       "       7.35126254, 7.52654745, 7.88461344, 7.00697448, 6.86781617,\n",
       "       6.86781617, 7.11313896, 7.05539496, 7.63492597, 7.84197686,\n",
       "       7.18791452, 7.58863228, 6.91053789, 7.80307366, 7.74072185,\n",
       "       7.57459849, 7.1720741 , 7.13232145, 8.15999361, 7.28656996,\n",
       "       8.99663217, 8.97764223, 7.42737411, 8.42420334, 7.64572824,\n",
       "       7.34569164, 8.18740395, 7.36719576, 7.13471643, 7.56441701,\n",
       "       6.94847071, 7.67930989, 7.86856566, 7.99473102, 7.46161458,\n",
       "       7.29359319, 7.78110185, 6.44623901, 7.56507053, 7.34558888,\n",
       "       8.36166197, 7.41516246, 7.1860325 , 6.87346204, 8.05982577,\n",
       "       7.69451975, 6.97669787, 7.29796946, 8.44187771, 8.07380239,\n",
       "       7.89038314, 7.39285131, 7.7170214 , 7.58350932, 7.56296859,\n",
       "       8.73037584, 7.73495903, 7.33909317, 7.2641805 , 8.77332539,\n",
       "       7.11437098, 7.76706936, 8.35649447, 7.98268383, 8.8973638 ,\n",
       "       7.23384559, 7.92031074, 7.32665828, 7.95997139, 8.3477027 ,\n",
       "       7.93392941, 7.94461041, 7.05581155, 8.78729981, 7.12906268,\n",
       "       8.64558031, 8.32521874, 7.73904778, 7.62263745, 7.36283244,\n",
       "       8.26470689, 8.38485005, 7.07830032, 7.18096029, 7.74040632,\n",
       "       7.93270446, 7.24766464, 7.2901631 , 6.92092626, 7.89102165,\n",
       "       8.28308545, 8.78335046, 8.74075692, 8.09090533, 7.80774708,\n",
       "       8.64351532, 7.43342083, 8.48517818, 7.49803875, 7.85146192,\n",
       "       7.145511  , 7.19826186, 7.06917151, 7.54121185, 8.45968347,\n",
       "       7.38233444, 7.56445314, 7.56445314, 7.9815689 , 7.76239503,\n",
       "       7.86267974, 8.07599151, 8.03115885, 8.00863246, 8.418163  ,\n",
       "       6.81097107, 8.49124381, 8.0460782 , 6.6099354 , 8.05248536,\n",
       "       7.88654578, 8.12219642, 8.004378  , 8.94682212, 7.93449191,\n",
       "       7.09120599, 7.78271309, 7.39381946, 8.71256923, 8.71256923,\n",
       "       7.63001682, 8.26558065, 7.21067812, 7.60846631, 7.72548976,\n",
       "       7.43045863, 7.74153021, 7.44545923, 8.1539717 , 9.04255642,\n",
       "       7.74153021, 7.5730918 , 7.63087791, 7.7841804 , 8.12937579,\n",
       "       7.7171748 , 7.85927571, 7.27790292, 7.54377639, 7.85927571,\n",
       "       7.90804046, 7.29243738, 7.55877355, 7.95722251, 7.62271724,\n",
       "       8.14829599, 8.3651938 , 7.68480293, 7.82144026, 7.05771359,\n",
       "       8.63537181, 7.45096588, 8.84503772, 8.5922648 , 9.01530248,\n",
       "       7.61708614, 8.31332561, 7.45291392, 8.04230187, 7.86373397,\n",
       "       8.03144336, 7.7412086 , 9.00493219, 8.40295342, 7.41755998,\n",
       "       8.29753208, 8.01625769, 8.01625769, 8.54655929, 8.20354971,\n",
       "       8.25932918, 7.00756604, 7.25959072, 8.21044502, 8.38947264,\n",
       "       8.37484274, 7.38674092, 8.14565588, 8.4947358 , 8.73403356,\n",
       "       8.22193638, 7.44482239, 7.54270495, 8.28935182, 7.5907943 ,\n",
       "       8.24640434, 8.11067639, 7.28764343, 8.03542311, 7.28764343,\n",
       "       7.70682206, 8.74349953, 7.14631673, 8.04559066, 8.33561991,\n",
       "       8.0633364 , 8.09586348, 8.8437922 , 7.57902324, 8.90873875,\n",
       "       7.42157044, 8.4847168 , 7.51853386, 7.36982438, 7.85119193,\n",
       "       8.57162407, 7.8531827 , 7.61961456, 8.21817235, 8.87751113,\n",
       "       7.34646016, 8.38903062, 7.86480933, 8.57470011, 7.48978934,\n",
       "       7.77975672, 8.89746476, 8.42264108, 8.42264108, 7.40529543,\n",
       "       9.02179192, 7.66780665, 7.25975479, 7.58206473, 8.61150774,\n",
       "       7.97279341, 7.69100903, 7.48195872, 7.52705271, 8.42796902,\n",
       "       7.35438721, 8.42796902, 8.03948856, 7.66238142, 7.66238142,\n",
       "       7.91176761, 8.05248291, 8.74849452, 8.19635745, 8.12562296,\n",
       "       7.41395177, 7.85673123, 7.41395177, 7.62215058, 7.15293856,\n",
       "       8.55375346, 8.41070326, 8.43198048, 7.54630455, 7.84658662,\n",
       "       7.79131463, 8.02890958, 7.23472552, 8.48530418, 9.2463606 ,\n",
       "       8.56666249, 8.10034151, 7.25696438, 7.21713044, 7.30631205,\n",
       "       8.2560035 , 7.8553472 , 7.71805495, 7.91590948, 8.10817561,\n",
       "       7.01951771, 7.48426857, 7.67748524, 8.71013265, 7.8709998 ,\n",
       "       8.74351539, 8.53658836, 7.89191762, 7.17982926, 7.23260276,\n",
       "       6.93396686, 6.92939882, 7.28934457, 8.09723373, 8.78925794,\n",
       "       7.36765337, 7.44372152, 9.00278494, 8.88415156, 8.80051175,\n",
       "       8.00108926, 8.86458392, 7.25047226, 7.21155283, 8.59112717,\n",
       "       7.6303662 , 7.93354817, 7.55910901, 7.6616315 , 8.55525994,\n",
       "       7.85270818, 7.97003307, 7.23528263, 7.72097931, 8.36723339,\n",
       "       8.99977598, 8.3445229 , 8.32352206, 7.47119729, 7.98249598,\n",
       "       7.50483495, 7.34778676, 8.89436445, 7.50986011, 7.50986011,\n",
       "       7.68488495, 7.92279724, 7.61793085, 7.89593026, 7.61793085,\n",
       "       8.11153434, 8.65714613, 7.76655513, 7.47859967, 8.88880097,\n",
       "       7.3239792 , 7.3239792 , 8.42345289, 7.96783699, 9.02859444,\n",
       "       7.62320755, 7.21169911, 8.08278896, 7.96848703, 7.60189406,\n",
       "       7.23475461, 7.73158194, 8.01421637, 7.16101141, 7.34568228,\n",
       "       8.42118466, 7.73445146, 8.24363633, 7.36790166, 7.25812028,\n",
       "       7.11204749, 7.03610902, 7.03610902, 7.56905128, 7.34872711,\n",
       "       7.34872711, 8.08364193, 8.08364193, 7.86137467, 7.61245132,\n",
       "       7.88823179, 7.54804329, 7.25209057, 7.3351873 , 8.16888679,\n",
       "       7.09453867, 6.73564227, 8.42488614, 8.06365539, 7.05119423,\n",
       "       8.53134885, 8.01390466, 7.12523489, 8.12036359, 7.28093657,\n",
       "       8.13214813, 8.3184127 , 8.13214813, 8.09669847, 7.54134499,\n",
       "       7.23063362, 7.80911457, 7.83859847, 8.18177242, 8.87563877,\n",
       "       8.36704983, 8.85349397, 7.52220585, 8.19122338, 7.67119424,\n",
       "       8.13618306, 7.33273215, 6.99440871, 7.0889397 , 7.63933163,\n",
       "       7.46633138, 7.95436787, 8.23625108, 7.88547817, 7.79920808,\n",
       "       7.43038769, 7.42356163, 7.42356163, 7.84722166, 7.64631996,\n",
       "       7.64631996, 7.62179483, 8.07545269, 8.24080252, 6.96260688,\n",
       "       8.36419006, 7.39756853, 7.39756853, 7.27912102, 7.86797142,\n",
       "       7.55860462, 8.53838365, 7.37762369, 7.40250364, 8.29344869,\n",
       "       7.19295941, 8.45574379, 6.94257725, 7.86848295, 8.03330899,\n",
       "       7.5820189 , 7.65453327, 8.69330067, 8.07283476, 7.17211006,\n",
       "       8.22875051, 8.22065156, 8.06685282, 8.68329095, 8.0843181 ,\n",
       "       8.86489303, 7.45666453, 8.59908986, 7.98993705, 8.43555379,\n",
       "       8.4894128 , 6.86506175, 8.15264445, 8.33905997, 8.2466647 ,\n",
       "       8.16881499, 7.55623276, 6.66385575, 7.82020024, 7.65984363,\n",
       "       7.65984363, 6.73116668, 8.09389418, 7.79413177, 7.38158516,\n",
       "       8.40565338, 7.51728526, 7.98732178, 8.02007371, 7.14472306,\n",
       "       8.35601088, 8.12164301, 8.7502005 , 7.54725259, 8.29355376,\n",
       "       7.25638059, 7.99076813, 7.48307193, 7.45485326, 8.3037653 ,\n",
       "       7.91215652, 8.54977298, 7.22188354, 7.58262382, 7.49203153,\n",
       "       7.49203153, 8.41243252, 7.95197998, 7.29151782, 8.23302128,\n",
       "       8.42806535, 7.53943774, 8.50242648, 8.54075388, 6.51444569,\n",
       "       7.20239691, 7.59570094, 7.24504684, 8.45580204, 8.33215195,\n",
       "       9.22581292, 5.1035404 , 5.27567238, 5.26293281, 5.20835585,\n",
       "       5.16786794, 5.23714951, 5.11782858, 5.1187762 , 5.58078123,\n",
       "       5.43612397, 4.80974997, 5.00559521, 5.87055189, 5.54851369,\n",
       "       5.11291577, 5.8543805 , 6.75509855, 6.46668469, 4.55431944,\n",
       "       5.72782737, 5.74533833, 5.76777407, 5.76842159, 5.41806381,\n",
       "       5.69229747, 6.0197367 , 6.19650424, 5.50619191, 6.1674395 ,\n",
       "       5.1719068 , 5.64559583, 5.33763162, 5.81805677, 4.92959289,\n",
       "       5.38060177, 5.07302241, 5.64869659, 6.30148173, 5.54698761,\n",
       "       4.88100306, 4.65145927, 6.39174651, 5.68201202, 6.13492481,\n",
       "       6.9846147 , 4.90433601, 6.26926612, 6.11776775, 5.10482951,\n",
       "       5.94023263, 5.02999222, 4.95203795, 5.14443806, 5.9064264 ,\n",
       "       6.15010185, 5.93741171, 6.15840142, 6.21925029, 5.39124392,\n",
       "       5.5880865 , 5.52500861, 5.11745442, 4.67751974, 5.33123131,\n",
       "       6.97126398, 5.40384955, 5.52287305, 4.47909495, 4.99364881,\n",
       "       5.32649324, 5.10533824, 4.88620965, 5.50462148])"
      ]
     },
     "execution_count": 40,
     "metadata": {},
     "output_type": "execute_result"
    }
   ],
   "source": [
    "val_pred"
   ]
  },
  {
   "cell_type": "code",
   "execution_count": null,
   "metadata": {},
   "outputs": [],
   "source": []
  }
 ],
 "metadata": {
  "kernelspec": {
   "display_name": "Python 3",
   "language": "python",
   "name": "python3"
  },
  "language_info": {
   "codemirror_mode": {
    "name": "ipython",
    "version": 3
   },
   "file_extension": ".py",
   "mimetype": "text/x-python",
   "name": "python",
   "nbconvert_exporter": "python",
   "pygments_lexer": "ipython3",
   "version": "3.8.5"
  }
 },
 "nbformat": 4,
 "nbformat_minor": 4
}
