{
 "cells": [
  {
   "cell_type": "code",
   "execution_count": 1,
   "metadata": {},
   "outputs": [],
   "source": [
    "from cookies_main_pipeline import full_pipeline\n",
    "from cookies_main_pipeline import X_train, y_train, X_test, y_test\n",
    "import pandas as pd"
   ]
  },
  {
   "cell_type": "code",
   "execution_count": 2,
   "metadata": {},
   "outputs": [],
   "source": [
    "from sklearn.ensemble import GradientBoostingRegressor\n",
    "from sklearn.model_selection import RandomizedSearchCV\n",
    "from sklearn.linear_model import LinearRegression\n",
    "from sklearn.neighbors import KNeighborsRegressor\n",
    "from sklearn.model_selection import GridSearchCV\n",
    "from sklearn.metrics import mean_squared_error\n",
    "from sklearn.tree import DecisionTreeRegressor\n",
    "from sklearn.metrics import mean_squared_error\n",
    "from sklearn.metrics import r2_score\n",
    "from sklearn.ensemble import RandomForestRegressor\n",
    "from sklearn.model_selection import RandomizedSearchCV\n",
    "from  sklearn.ensemble import RandomForestClassifier\n",
    "from sklearn.ensemble import StackingRegressor\n",
    "\n",
    "from sklearn.ensemble import AdaBoostRegressor\n",
    "from sklearn.linear_model import LogisticRegression\n",
    "\n",
    "from sklearn.ensemble import GradientBoostingRegressor\n"
   ]
  },
  {
   "cell_type": "code",
   "execution_count": 3,
   "metadata": {},
   "outputs": [],
   "source": [
    "#import the validation dataset:\n",
    "cookies_validate = pd.read_csv(\"../Data/cookies_validate.csv\")"
   ]
  },
  {
   "cell_type": "code",
   "execution_count": 4,
   "metadata": {
    "scrolled": true
   },
   "outputs": [
    {
     "data": {
      "text/html": [
       "<div>\n",
       "<style scoped>\n",
       "    .dataframe tbody tr th:only-of-type {\n",
       "        vertical-align: middle;\n",
       "    }\n",
       "\n",
       "    .dataframe tbody tr th {\n",
       "        vertical-align: top;\n",
       "    }\n",
       "\n",
       "    .dataframe thead th {\n",
       "        text-align: right;\n",
       "    }\n",
       "</style>\n",
       "<table border=\"1\" class=\"dataframe\">\n",
       "  <thead>\n",
       "    <tr style=\"text-align: right;\">\n",
       "      <th></th>\n",
       "      <th>id</th>\n",
       "      <th>sugar to flour ratio</th>\n",
       "      <th>sugar index</th>\n",
       "      <th>bake temp</th>\n",
       "      <th>chill time</th>\n",
       "      <th>calories</th>\n",
       "      <th>density</th>\n",
       "      <th>pH</th>\n",
       "      <th>grams baking soda</th>\n",
       "      <th>bake time</th>\n",
       "      <th>quality</th>\n",
       "      <th>butter type</th>\n",
       "      <th>weight</th>\n",
       "      <th>diameter</th>\n",
       "      <th>mixins</th>\n",
       "      <th>crunch factor</th>\n",
       "      <th>aesthetic appeal</th>\n",
       "    </tr>\n",
       "  </thead>\n",
       "  <tbody>\n",
       "    <tr>\n",
       "      <th>0</th>\n",
       "      <td>14</td>\n",
       "      <td>0.62</td>\n",
       "      <td>19.25</td>\n",
       "      <td>400.0</td>\n",
       "      <td>41.0</td>\n",
       "      <td>172.0</td>\n",
       "      <td>1.0002</td>\n",
       "      <td>7.98</td>\n",
       "      <td>0.67</td>\n",
       "      <td>9.7</td>\n",
       "      <td>0</td>\n",
       "      <td>melted</td>\n",
       "      <td>16.6</td>\n",
       "      <td>7</td>\n",
       "      <td>nuts, chocolate</td>\n",
       "      <td>1.85</td>\n",
       "      <td>3</td>\n",
       "    </tr>\n",
       "    <tr>\n",
       "      <th>1</th>\n",
       "      <td>26</td>\n",
       "      <td>0.35</td>\n",
       "      <td>1.00</td>\n",
       "      <td>520.0</td>\n",
       "      <td>35.0</td>\n",
       "      <td>146.0</td>\n",
       "      <td>0.9930</td>\n",
       "      <td>8.45</td>\n",
       "      <td>0.44</td>\n",
       "      <td>10.0</td>\n",
       "      <td>0</td>\n",
       "      <td>melted</td>\n",
       "      <td>13.8</td>\n",
       "      <td>7</td>\n",
       "      <td>chocolate</td>\n",
       "      <td>1.43</td>\n",
       "      <td>3</td>\n",
       "    </tr>\n",
       "    <tr>\n",
       "      <th>2</th>\n",
       "      <td>30</td>\n",
       "      <td>0.39</td>\n",
       "      <td>10.40</td>\n",
       "      <td>440.0</td>\n",
       "      <td>20.0</td>\n",
       "      <td>142.0</td>\n",
       "      <td>0.9974</td>\n",
       "      <td>8.20</td>\n",
       "      <td>0.53</td>\n",
       "      <td>10.0</td>\n",
       "      <td>0</td>\n",
       "      <td>melted</td>\n",
       "      <td>17.0</td>\n",
       "      <td>7</td>\n",
       "      <td>chocolate</td>\n",
       "      <td>1.57</td>\n",
       "      <td>3</td>\n",
       "    </tr>\n",
       "    <tr>\n",
       "      <th>3</th>\n",
       "      <td>52</td>\n",
       "      <td>0.33</td>\n",
       "      <td>1.10</td>\n",
       "      <td>570.0</td>\n",
       "      <td>21.0</td>\n",
       "      <td>82.0</td>\n",
       "      <td>0.9910</td>\n",
       "      <td>8.32</td>\n",
       "      <td>0.46</td>\n",
       "      <td>10.9</td>\n",
       "      <td>0</td>\n",
       "      <td>melted</td>\n",
       "      <td>12.4</td>\n",
       "      <td>7</td>\n",
       "      <td>chocolate, oats</td>\n",
       "      <td>1.44</td>\n",
       "      <td>3</td>\n",
       "    </tr>\n",
       "    <tr>\n",
       "      <th>4</th>\n",
       "      <td>100</td>\n",
       "      <td>0.37</td>\n",
       "      <td>13.50</td>\n",
       "      <td>600.0</td>\n",
       "      <td>52.0</td>\n",
       "      <td>192.0</td>\n",
       "      <td>0.9975</td>\n",
       "      <td>8.00</td>\n",
       "      <td>0.44</td>\n",
       "      <td>9.1</td>\n",
       "      <td>0</td>\n",
       "      <td>melted</td>\n",
       "      <td>14.8</td>\n",
       "      <td>7</td>\n",
       "      <td>chocolate</td>\n",
       "      <td>1.51</td>\n",
       "      <td>3</td>\n",
       "    </tr>\n",
       "  </tbody>\n",
       "</table>\n",
       "</div>"
      ],
      "text/plain": [
       "    id  sugar to flour ratio  sugar index  bake temp  chill time  calories  \\\n",
       "0   14                  0.62        19.25      400.0        41.0     172.0   \n",
       "1   26                  0.35         1.00      520.0        35.0     146.0   \n",
       "2   30                  0.39        10.40      440.0        20.0     142.0   \n",
       "3   52                  0.33         1.10      570.0        21.0      82.0   \n",
       "4  100                  0.37        13.50      600.0        52.0     192.0   \n",
       "\n",
       "   density    pH  grams baking soda  bake time  quality butter type  weight  \\\n",
       "0   1.0002  7.98               0.67        9.7        0      melted    16.6   \n",
       "1   0.9930  8.45               0.44       10.0        0      melted    13.8   \n",
       "2   0.9974  8.20               0.53       10.0        0      melted    17.0   \n",
       "3   0.9910  8.32               0.46       10.9        0      melted    12.4   \n",
       "4   0.9975  8.00               0.44        9.1        0      melted    14.8   \n",
       "\n",
       "   diameter           mixins  crunch factor  aesthetic appeal  \n",
       "0         7  nuts, chocolate           1.85                 3  \n",
       "1         7        chocolate           1.43                 3  \n",
       "2         7        chocolate           1.57                 3  \n",
       "3         7  chocolate, oats           1.44                 3  \n",
       "4         7        chocolate           1.51                 3  "
      ]
     },
     "execution_count": 4,
     "metadata": {},
     "output_type": "execute_result"
    }
   ],
   "source": [
    "cookies_validate.head()"
   ]
  },
  {
   "cell_type": "code",
   "execution_count": 5,
   "metadata": {},
   "outputs": [
    {
     "data": {
      "text/plain": [
       "id                      0\n",
       "sugar to flour ratio    0\n",
       "sugar index             0\n",
       "bake temp               0\n",
       "chill time              0\n",
       "calories                0\n",
       "density                 0\n",
       "pH                      0\n",
       "grams baking soda       0\n",
       "bake time               0\n",
       "quality                 0\n",
       "butter type             0\n",
       "weight                  0\n",
       "diameter                0\n",
       "mixins                  0\n",
       "crunch factor           0\n",
       "aesthetic appeal        0\n",
       "dtype: int64"
      ]
     },
     "execution_count": 5,
     "metadata": {},
     "output_type": "execute_result"
    }
   ],
   "source": [
    "#check for null values:\n",
    "cookies_validate.isnull().sum()"
   ]
  },
  {
   "cell_type": "code",
   "execution_count": 6,
   "metadata": {},
   "outputs": [
    {
     "data": {
      "text/html": [
       "<div>\n",
       "<style scoped>\n",
       "    .dataframe tbody tr th:only-of-type {\n",
       "        vertical-align: middle;\n",
       "    }\n",
       "\n",
       "    .dataframe tbody tr th {\n",
       "        vertical-align: top;\n",
       "    }\n",
       "\n",
       "    .dataframe thead th {\n",
       "        text-align: right;\n",
       "    }\n",
       "</style>\n",
       "<table border=\"1\" class=\"dataframe\">\n",
       "  <thead>\n",
       "    <tr style=\"text-align: right;\">\n",
       "      <th></th>\n",
       "      <th>id</th>\n",
       "      <th>sugar to flour ratio</th>\n",
       "      <th>sugar index</th>\n",
       "      <th>bake temp</th>\n",
       "      <th>chill time</th>\n",
       "      <th>calories</th>\n",
       "      <th>density</th>\n",
       "      <th>pH</th>\n",
       "      <th>grams baking soda</th>\n",
       "      <th>bake time</th>\n",
       "      <th>butter type</th>\n",
       "      <th>weight</th>\n",
       "      <th>mixins</th>\n",
       "      <th>crunch factor</th>\n",
       "      <th>aesthetic appeal</th>\n",
       "    </tr>\n",
       "  </thead>\n",
       "  <tbody>\n",
       "    <tr>\n",
       "      <th>0</th>\n",
       "      <td>14</td>\n",
       "      <td>0.62</td>\n",
       "      <td>19.25</td>\n",
       "      <td>400.0</td>\n",
       "      <td>41.0</td>\n",
       "      <td>172.0</td>\n",
       "      <td>1.0002</td>\n",
       "      <td>7.98</td>\n",
       "      <td>0.67</td>\n",
       "      <td>9.7</td>\n",
       "      <td>melted</td>\n",
       "      <td>16.6</td>\n",
       "      <td>nuts, chocolate</td>\n",
       "      <td>1.85</td>\n",
       "      <td>3</td>\n",
       "    </tr>\n",
       "    <tr>\n",
       "      <th>1</th>\n",
       "      <td>26</td>\n",
       "      <td>0.35</td>\n",
       "      <td>1.00</td>\n",
       "      <td>520.0</td>\n",
       "      <td>35.0</td>\n",
       "      <td>146.0</td>\n",
       "      <td>0.9930</td>\n",
       "      <td>8.45</td>\n",
       "      <td>0.44</td>\n",
       "      <td>10.0</td>\n",
       "      <td>melted</td>\n",
       "      <td>13.8</td>\n",
       "      <td>chocolate</td>\n",
       "      <td>1.43</td>\n",
       "      <td>3</td>\n",
       "    </tr>\n",
       "    <tr>\n",
       "      <th>2</th>\n",
       "      <td>30</td>\n",
       "      <td>0.39</td>\n",
       "      <td>10.40</td>\n",
       "      <td>440.0</td>\n",
       "      <td>20.0</td>\n",
       "      <td>142.0</td>\n",
       "      <td>0.9974</td>\n",
       "      <td>8.20</td>\n",
       "      <td>0.53</td>\n",
       "      <td>10.0</td>\n",
       "      <td>melted</td>\n",
       "      <td>17.0</td>\n",
       "      <td>chocolate</td>\n",
       "      <td>1.57</td>\n",
       "      <td>3</td>\n",
       "    </tr>\n",
       "    <tr>\n",
       "      <th>3</th>\n",
       "      <td>52</td>\n",
       "      <td>0.33</td>\n",
       "      <td>1.10</td>\n",
       "      <td>570.0</td>\n",
       "      <td>21.0</td>\n",
       "      <td>82.0</td>\n",
       "      <td>0.9910</td>\n",
       "      <td>8.32</td>\n",
       "      <td>0.46</td>\n",
       "      <td>10.9</td>\n",
       "      <td>melted</td>\n",
       "      <td>12.4</td>\n",
       "      <td>chocolate, oats</td>\n",
       "      <td>1.44</td>\n",
       "      <td>3</td>\n",
       "    </tr>\n",
       "    <tr>\n",
       "      <th>4</th>\n",
       "      <td>100</td>\n",
       "      <td>0.37</td>\n",
       "      <td>13.50</td>\n",
       "      <td>600.0</td>\n",
       "      <td>52.0</td>\n",
       "      <td>192.0</td>\n",
       "      <td>0.9975</td>\n",
       "      <td>8.00</td>\n",
       "      <td>0.44</td>\n",
       "      <td>9.1</td>\n",
       "      <td>melted</td>\n",
       "      <td>14.8</td>\n",
       "      <td>chocolate</td>\n",
       "      <td>1.51</td>\n",
       "      <td>3</td>\n",
       "    </tr>\n",
       "  </tbody>\n",
       "</table>\n",
       "</div>"
      ],
      "text/plain": [
       "    id  sugar to flour ratio  sugar index  bake temp  chill time  calories  \\\n",
       "0   14                  0.62        19.25      400.0        41.0     172.0   \n",
       "1   26                  0.35         1.00      520.0        35.0     146.0   \n",
       "2   30                  0.39        10.40      440.0        20.0     142.0   \n",
       "3   52                  0.33         1.10      570.0        21.0      82.0   \n",
       "4  100                  0.37        13.50      600.0        52.0     192.0   \n",
       "\n",
       "   density    pH  grams baking soda  bake time butter type  weight  \\\n",
       "0   1.0002  7.98               0.67        9.7      melted    16.6   \n",
       "1   0.9930  8.45               0.44       10.0      melted    13.8   \n",
       "2   0.9974  8.20               0.53       10.0      melted    17.0   \n",
       "3   0.9910  8.32               0.46       10.9      melted    12.4   \n",
       "4   0.9975  8.00               0.44        9.1      melted    14.8   \n",
       "\n",
       "            mixins  crunch factor  aesthetic appeal  \n",
       "0  nuts, chocolate           1.85                 3  \n",
       "1        chocolate           1.43                 3  \n",
       "2        chocolate           1.57                 3  \n",
       "3  chocolate, oats           1.44                 3  \n",
       "4        chocolate           1.51                 3  "
      ]
     },
     "execution_count": 6,
     "metadata": {},
     "output_type": "execute_result"
    }
   ],
   "source": [
    "#drop quality and diameter:\n",
    "X_validate=cookies_validate.drop(columns=[\"quality\",\"diameter\"])\n",
    "X_validate.head()"
   ]
  },
  {
   "cell_type": "code",
   "execution_count": 7,
   "metadata": {},
   "outputs": [],
   "source": [
    "#pass all the X datasets to our processing pipeline\n",
    "X_train_preprocess=full_pipeline.fit_transform(X_train)\n",
    "X_test_preprocess=full_pipeline.fit_transform(X_test)\n",
    "X_val_preprocess=full_pipeline.fit_transform(X_validate)"
   ]
  },
  {
   "cell_type": "code",
   "execution_count": 8,
   "metadata": {},
   "outputs": [
    {
     "data": {
      "text/plain": [
       "array([[ 0.46842916, -1.32508739, -0.61861296, ...,  1.85540694,\n",
       "         0.69381219, -0.11821173],\n",
       "       [-0.25248462,  0.8499467 , -0.17494267, ..., -0.53896532,\n",
       "         0.69381219, -0.11821173],\n",
       "       [-0.51463509, -0.67481386, -0.39677781, ..., -0.53896532,\n",
       "        -1.44131223, -0.11821173],\n",
       "       ...,\n",
       "       [-0.38355985,  1.41639643, -0.61861296, ..., -0.53896532,\n",
       "         0.69381219, -0.11821173],\n",
       "       [ 0.5995044 , -0.79111083, -0.27001487, ...,  1.85540694,\n",
       "         0.69381219, -0.11821173],\n",
       "       [ 2.89332098,  0.13062315,  0.3321091 , ..., -0.53896532,\n",
       "        -1.44131223, -0.11821173]])"
      ]
     },
     "execution_count": 8,
     "metadata": {},
     "output_type": "execute_result"
    }
   ],
   "source": [
    "X_train_preprocess"
   ]
  },
  {
   "cell_type": "code",
   "execution_count": 9,
   "metadata": {},
   "outputs": [],
   "source": [
    "#Try linear regression:\n",
    "\n",
    "lin_reg = LinearRegression()"
   ]
  },
  {
   "cell_type": "code",
   "execution_count": 10,
   "metadata": {},
   "outputs": [],
   "source": [
    "lin_reg.fit(X_train_preprocess, y_train)\n",
    "y_pred=lin_reg.predict(X_test_preprocess)\n"
   ]
  },
  {
   "cell_type": "code",
   "execution_count": 11,
   "metadata": {},
   "outputs": [
    {
     "data": {
      "text/plain": [
       "0.6729351826199497"
      ]
     },
     "execution_count": 11,
     "metadata": {},
     "output_type": "execute_result"
    }
   ],
   "source": [
    "lin_reg.score(X_train_preprocess,y_train)"
   ]
  },
  {
   "cell_type": "code",
   "execution_count": 12,
   "metadata": {},
   "outputs": [
    {
     "data": {
      "text/plain": [
       "0.660020310334883"
      ]
     },
     "execution_count": 12,
     "metadata": {},
     "output_type": "execute_result"
    }
   ],
   "source": [
    "lin_reg.score(X_test_preprocess,y_test)"
   ]
  },
  {
   "cell_type": "code",
   "execution_count": 13,
   "metadata": {},
   "outputs": [],
   "source": [
    "#try knn:"
   ]
  },
  {
   "cell_type": "code",
   "execution_count": 14,
   "metadata": {},
   "outputs": [],
   "source": [
    "\n",
    "#initialize the model:\n",
    "neigh=KNeighborsRegressor()\n",
    "\n",
    "#define the parameters to test the model with \n",
    "param_grid_knn={\"n_neighbors\":range(1,5),\n",
    "            \"algorithm\":[\"ball_tree\",\"kd_tree\",\"brute\"],\n",
    "            \"weights\":[\"uniform\",\"distance\"],\n",
    "            \"p\":[1,2]\n",
    "            }\n",
    "\n",
    "# define grid search\n",
    "neigh_search = GridSearchCV(estimator=neigh, #kind of model\n",
    "                            param_grid=param_grid_knn, # options to combine and test\n",
    "                            scoring=\"r2\", #how to score each test\n",
    "                            cv=5) #number of folds to dive the data into\n"
   ]
  },
  {
   "cell_type": "code",
   "execution_count": 15,
   "metadata": {},
   "outputs": [
    {
     "data": {
      "text/plain": [
       "GridSearchCV(cv=5, estimator=KNeighborsRegressor(),\n",
       "             param_grid={'algorithm': ['ball_tree', 'kd_tree', 'brute'],\n",
       "                         'n_neighbors': range(1, 5), 'p': [1, 2],\n",
       "                         'weights': ['uniform', 'distance']},\n",
       "             scoring='r2')"
      ]
     },
     "execution_count": 15,
     "metadata": {},
     "output_type": "execute_result"
    }
   ],
   "source": [
    "neigh_search.fit(X_train_preprocess, y_train)"
   ]
  },
  {
   "cell_type": "code",
   "execution_count": 16,
   "metadata": {},
   "outputs": [
    {
     "data": {
      "text/plain": [
       "0.7501674694236035"
      ]
     },
     "execution_count": 16,
     "metadata": {},
     "output_type": "execute_result"
    }
   ],
   "source": [
    "pred_neigh_test= neigh_search.predict(X_test_preprocess)\n",
    "\n",
    "mean_squared_error(y_test, y_pred, squared=False)"
   ]
  },
  {
   "cell_type": "code",
   "execution_count": 17,
   "metadata": {},
   "outputs": [
    {
     "data": {
      "text/plain": [
       "0.660020310334883"
      ]
     },
     "execution_count": 17,
     "metadata": {},
     "output_type": "execute_result"
    }
   ],
   "source": [
    "r2_score(y_test, y_pred)"
   ]
  },
  {
   "cell_type": "code",
   "execution_count": 18,
   "metadata": {},
   "outputs": [
    {
     "data": {
      "text/plain": [
       "0.9917454281201865"
      ]
     },
     "execution_count": 18,
     "metadata": {},
     "output_type": "execute_result"
    }
   ],
   "source": [
    "#using a decision tree for baseline modelling \n",
    "\n",
    "tree = DecisionTreeRegressor()\n",
    "tree.fit(X_train_preprocess, y_train)\n",
    "y_pred =tree.predict(X_test_preprocess)\n",
    "\n",
    "mean_squared_error(y_test, y_pred, squared=False)"
   ]
  },
  {
   "cell_type": "code",
   "execution_count": 19,
   "metadata": {},
   "outputs": [
    {
     "data": {
      "text/plain": [
       "0.4057941369256154"
      ]
     },
     "execution_count": 19,
     "metadata": {},
     "output_type": "execute_result"
    }
   ],
   "source": [
    "r2_score(y_test, y_pred)"
   ]
  },
  {
   "cell_type": "code",
   "execution_count": 20,
   "metadata": {},
   "outputs": [],
   "source": [
    "val_pred =tree.predict(X_val_preprocess)"
   ]
  },
  {
   "cell_type": "code",
   "execution_count": 21,
   "metadata": {},
   "outputs": [
    {
     "data": {
      "text/plain": [
       "array([ 8.,  7., 11.,  8.,  8.,  8.,  7.,  8.,  8.,  7.,  6.,  9.,  7.,\n",
       "        8.,  7.,  7., 10.,  8.,  8.,  8.,  7.,  8.,  8.,  7.,  7.,  6.,\n",
       "        7.,  7.,  6.,  8.,  8.,  7.,  8.,  8.,  8.,  9.,  8.,  9.,  7.,\n",
       "        7.,  7.,  6.,  9.,  8.,  8.,  8.,  8.,  9.,  9.,  7.,  7.,  8.,\n",
       "        8.,  7.,  8.,  7.,  7.,  7.,  8.,  8.,  8.,  8.,  7.,  9.,  7.,\n",
       "        7.,  7.,  7.,  8.,  8.,  9.,  9.,  8.,  7.,  9.,  8., 10.,  9.,\n",
       "        7.,  8.,  7.,  7.,  7.,  7.,  6., 10., 10.,  7.,  7.,  9.,  9.,\n",
       "        8.,  7.,  8.,  7.,  8.,  8.,  8.,  8.,  7.,  8.,  6.,  9.,  7.,\n",
       "        8.,  9.,  7.,  7.,  7.,  8.,  7.,  7.,  7.,  7.,  8.,  9.,  8.,\n",
       "        8.,  8.,  7.,  7.,  8.,  9.,  8.,  8.,  7.,  7.,  8.,  7.,  7.,\n",
       "        7.,  7.,  6.,  7.,  7.,  9.,  6.,  8.,  7.,  7.,  6.,  6.,  6.,\n",
       "        7.,  8.,  8.,  7.,  7.,  9., 10.,  7.,  7.,  8.,  7.,  7.,  8.,\n",
       "        8.,  7.,  9.,  8.,  7.,  8.,  7.,  9.,  8.,  7.,  6.,  7.,  7.,\n",
       "        9.,  7.,  6.,  7.,  8.,  7.,  7.,  9.,  7.,  8.,  9.,  7.,  9.,\n",
       "        8.,  7.,  8.,  7.,  8.,  7.,  7.,  7.,  8.,  7.,  7.,  7.,  8.,\n",
       "        8.,  7.,  7., 10.,  8.,  8.,  9.,  9.,  7.,  9.,  8.,  7.,  8.,\n",
       "        7.,  7.,  8.,  7.,  6.,  7.,  5.,  8.,  9.,  8.,  8.,  9.,  9.,\n",
       "        7.,  7.,  8.,  7.,  8.,  6.,  7.,  8.,  8.,  7.,  8.,  6.,  7.,\n",
       "        7.,  9.,  9.,  7.,  9.,  8.,  7., 11.,  8.,  7.,  9.,  7.,  8.,\n",
       "        8.,  7.,  8.,  6.,  8.,  6.,  8.,  7., 10.,  8.,  7.,  7., 10.,\n",
       "        9.,  9.,  7.,  9.,  8.,  8.,  7.,  8.,  7.,  8.,  9.,  7.,  7.,\n",
       "        8.,  9.,  7.,  8.,  8.,  9., 10.,  5.,  8.,  8.,  8.,  8.,  7.,\n",
       "        8.,  7.,  9.,  7.,  9.,  9.,  7.,  7.,  8.,  7.,  8.,  5.,  8.,\n",
       "        7.,  7.,  9.,  6.,  8.,  8.,  8.,  9.,  7.,  9.,  8.,  8.,  7.,\n",
       "        9.,  7.,  7.,  9.,  6.,  9.,  8.,  9.,  8.,  8.,  8.,  8.,  8.,\n",
       "        8.,  7.,  8.,  9.,  8.,  7.,  8., 10.,  5.,  8.,  7.,  8.,  8.,\n",
       "        7.,  6.,  9.,  6.,  7.,  9.,  9.,  7.,  7.,  7.,  8.,  8.,  7.,\n",
       "        8.,  9.,  7.,  7.,  8.,  8.,  7.,  8.,  9.,  8.,  8.,  8.,  7.,\n",
       "        8.,  9.,  9.,  9.,  7.,  9.,  9.,  8.,  8.,  8.,  7.,  9.,  7.,\n",
       "        8.,  8.,  9., 10.,  8.,  8.,  8., 10.,  9.,  6.,  8.,  9.,  8.,\n",
       "        7.,  8.,  8.,  9.,  9.,  8.,  7.,  8.,  7.,  9.,  8.,  9.,  8.,\n",
       "        9.,  9.,  8.,  7.,  8., 10.,  8.,  8.,  8.,  8.,  8.,  8.,  7.,\n",
       "        9.,  7.,  9.,  8.,  9.,  7.,  9.,  7.,  9.,  6.,  9.,  7.,  8.,\n",
       "        7.,  9.,  8.,  7.,  9.,  9.,  8.,  9.,  8.,  8.,  8.,  8., 10.,\n",
       "        8.,  8.,  7.,  8.,  8.,  7.,  8.,  9.,  8.,  8.,  7.,  6.,  8.,\n",
       "        6.,  8.,  9.,  8.,  8.,  7.,  8.,  9.,  6.,  9.,  8.,  8.,  8.,\n",
       "        9.,  7., 10., 10.,  7.,  6.,  7., 10.,  8.,  7.,  7., 10.,  9.,\n",
       "        7.,  8.,  7.,  7.,  8.,  8.,  8.,  8.,  6.,  7.,  8.,  8.,  9.,\n",
       "        7.,  8.,  8.,  9.,  7.,  8.,  7.,  7.,  8.,  7.,  8.,  7.,  7.,\n",
       "        8.,  8.,  7.,  7.,  7.,  7.,  7.,  9.,  6.,  8.,  8.,  8.,  9.,\n",
       "        8.,  8.,  7.,  9.,  7.,  8.,  9.,  8.,  8.,  8.,  8.,  7.,  8.,\n",
       "        7.,  7.,  8.,  8.,  7.,  8.,  7.,  7., 10., 10.,  8., 10.,  7.,\n",
       "        7.,  7.,  9.,  8.,  8.,  9.,  8.,  9.,  6.,  7.,  8., 10.,  7.,\n",
       "        8.,  8.,  8.,  9.,  7.,  7.,  7.,  7.,  7.,  7.,  7.,  7.,  9.,\n",
       "        9.,  8.,  8.,  8.,  8.,  7.,  7.,  8.,  7.,  9.,  9.,  8.,  7.,\n",
       "       10.,  9.,  7.,  8.,  7.,  8., 10.,  8.,  7.,  7.,  7.,  8.,  8.,\n",
       "        8.,  7.,  9.,  9.,  8.,  9.,  8.,  7.,  7.,  8.,  7.,  8.,  6.,\n",
       "        7.,  8.,  7.,  7.,  7.,  7.,  7.,  6.,  6.,  6.,  7.,  8.,  9.,\n",
       "        8.,  9.,  8.,  8.,  7.,  8.,  9.,  9.,  8.,  7., 10.,  8.,  9.,\n",
       "        7.,  8.,  8.,  8.,  9.,  9.,  8.,  6.,  8.,  8.,  8.,  9.,  8.,\n",
       "        9.,  7.,  7.,  8.,  9.,  9.,  7.,  8., 10.,  9.,  8.,  8.,  7.,\n",
       "        8.,  5.,  5.,  6.,  8.,  7.,  9.,  9.,  7.,  8.,  6.,  7., 10.,\n",
       "        8.,  8.,  8.,  9.,  7.,  8., 10.,  7.,  7.,  8.,  9.,  7.,  7.,\n",
       "        8.,  8.,  8.,  8.,  7.,  9., 10.,  8.,  9.,  9.,  6.,  7.,  6.,\n",
       "        7.,  9.,  7.,  9.,  6.,  6.,  6.,  6.,  6.,  5.,  5.,  5.,  6.,\n",
       "        6.,  5.,  6.,  7.,  5.,  5.,  6.,  7.,  6.,  5.,  6.,  6.,  6.,\n",
       "        6.,  7.,  5.,  6.,  7.,  6.,  6.,  5.,  6.,  6.,  6.,  5.,  7.,\n",
       "        5.,  5.,  6.,  4.,  4.,  5.,  7.,  6.,  7.,  7.,  5.,  6.,  7.,\n",
       "        6.,  4.,  5.,  4.,  6.,  6.,  7.,  6.,  7.,  8.,  6.,  7.,  4.,\n",
       "        5.,  4.,  5.,  7.,  6.,  5.,  4.,  5.,  5.,  5.,  5.,  5.])"
      ]
     },
     "execution_count": 21,
     "metadata": {},
     "output_type": "execute_result"
    }
   ],
   "source": [
    "val_pred"
   ]
  },
  {
   "cell_type": "code",
   "execution_count": 22,
   "metadata": {},
   "outputs": [
    {
     "data": {
      "text/plain": [
       "0.9539696153857856"
      ]
     },
     "execution_count": 22,
     "metadata": {},
     "output_type": "execute_result"
    }
   ],
   "source": [
    "#using a decision tree for baseline modelling with random state!\n",
    "\n",
    "\n",
    "tree = DecisionTreeRegressor(random_state=12)\n",
    "tree.fit(X_train_preprocess, y_train)\n",
    "y_pred =tree.predict(X_test_preprocess)\n",
    "\n",
    "\n",
    "mean_squared_error(y_test, y_pred, squared=False)"
   ]
  },
  {
   "cell_type": "code",
   "execution_count": 23,
   "metadata": {},
   "outputs": [
    {
     "data": {
      "text/plain": [
       "0.4501989015211446"
      ]
     },
     "execution_count": 23,
     "metadata": {},
     "output_type": "execute_result"
    }
   ],
   "source": [
    "r2_score(y_test, y_pred)"
   ]
  },
  {
   "cell_type": "code",
   "execution_count": 24,
   "metadata": {},
   "outputs": [
    {
     "data": {
      "text/plain": [
       "0.6872111666881511"
      ]
     },
     "execution_count": 24,
     "metadata": {},
     "output_type": "execute_result"
    }
   ],
   "source": [
    "#applying a random forest model, using default options \n",
    "\n",
    "rdf = RandomForestRegressor(n_estimators=100, max_features=\"auto\",random_state=0)\n",
    "rdf.fit(X_train_preprocess, y_train)\n",
    "y_pred =rdf.predict(X_test_preprocess)\n",
    "\n",
    "mean_squared_error(y_test, y_pred, squared=False)"
   ]
  },
  {
   "cell_type": "code",
   "execution_count": 25,
   "metadata": {},
   "outputs": [
    {
     "data": {
      "text/plain": [
       "0.7146900391022308"
      ]
     },
     "execution_count": 25,
     "metadata": {},
     "output_type": "execute_result"
    }
   ],
   "source": [
    "r2_score(y_test, y_pred)"
   ]
  },
  {
   "cell_type": "code",
   "execution_count": 26,
   "metadata": {},
   "outputs": [
    {
     "data": {
      "text/plain": [
       "array([7.72, 8.25, 8.27, ..., 7.71, 7.24, 7.49])"
      ]
     },
     "execution_count": 26,
     "metadata": {},
     "output_type": "execute_result"
    }
   ],
   "source": [
    "y_pred"
   ]
  },
  {
   "cell_type": "code",
   "execution_count": 27,
   "metadata": {},
   "outputs": [],
   "source": [
    "#use random forest but choose parameters with a  grid search: \n",
    "#now not running the fit cell bellow, exhaustive grid search is too long.\n",
    "rft_2=RandomForestRegressor()\n",
    "\n",
    "#define the parameters to test the model with \n",
    "param_grid_rft={\"n_estimators\":range(150,250),\n",
    "            #\"min_samples_split\":range(1,5),\n",
    "            #\"max_samples\":[0.9,1]\n",
    "            }\n",
    "\n",
    "# define grid search\n",
    "rft_search = GridSearchCV(estimator=rft_2, #kind of model\n",
    "                            param_grid=param_grid_rft, # options to combine and test\n",
    "                            scoring=\"r2\", #how to score each test\n",
    "                            cv=5) #number of folds to dive the data into\n"
   ]
  },
  {
   "cell_type": "code",
   "execution_count": 28,
   "metadata": {},
   "outputs": [],
   "source": [
    "# too big to run them all:  rft_search.fit(X_train_preprocess, y_train)"
   ]
  },
  {
   "cell_type": "code",
   "execution_count": 29,
   "metadata": {},
   "outputs": [],
   "source": [
    "#y_pred =rft_search.predict(X_test_preprocess)\n",
    "\n",
    "#mean_squared_error(y_test, y_pred, squared=False)"
   ]
  },
  {
   "cell_type": "code",
   "execution_count": 30,
   "metadata": {},
   "outputs": [],
   "source": [
    "#use random search:\n",
    "\n",
    "rft_2=RandomForestRegressor()\n",
    "\n",
    "#define the parameters to test the model with \n",
    "param_grid_rft={\"n_estimators\":[200,300,500],\n",
    "            \"min_samples_split\":range(2,7),\n",
    "            \"max_samples\":[0.8,0.9,1]\n",
    "            }\n",
    "\n",
    "# define grid search\n",
    "rft_search_reg = RandomizedSearchCV(estimator=rft_2, #kind of model\n",
    "                            param_distributions=param_grid_rft, # options to combine and test\n",
    "                            scoring=\"r2\", #how to score each test\n",
    "                            cv=5,#number of folds to dive the data into\n",
    "                            random_state=123) \n"
   ]
  },
  {
   "cell_type": "code",
   "execution_count": 58,
   "metadata": {},
   "outputs": [],
   "source": [
    "\n",
    "#use random search with classifier. The resutls are slightly worse\n",
    "#when we predict the \"categories\" of quality, aka \n",
    "# conclussion: do not use classifiers, use regressors.\n",
    "\n",
    "rft_3=RandomForestClassifier()\n",
    "\n",
    "#define the parameters to test the model with \n",
    "param_grid_rft={\"n_estimators\":[200,300,500],\n",
    "            \"min_samples_split\":range(2,7),\n",
    "            \"max_samples\":[0.8,0.9,1]\n",
    "            }\n",
    "\n",
    "# define grid search\n",
    "rft_search_cls = RandomizedSearchCV(estimator=rft_3, #kind of model\n",
    "                            param_distributions=param_grid_rft, # options to combine and test\n",
    "                            scoring=\"neg_root_mean_squared_error\", #how to score each test\n",
    "                            cv=5,#number of folds to dive the data into\n",
    "                            random_state=123) \n"
   ]
  },
  {
   "cell_type": "code",
   "execution_count": 59,
   "metadata": {},
   "outputs": [
    {
     "data": {
      "text/plain": [
       "RandomizedSearchCV(cv=5, estimator=RandomForestRegressor(),\n",
       "                   param_distributions={'max_samples': [0.8, 0.9, 1],\n",
       "                                        'min_samples_split': range(2, 7),\n",
       "                                        'n_estimators': [200, 300, 500]},\n",
       "                   random_state=123, scoring='r2')"
      ]
     },
     "execution_count": 59,
     "metadata": {},
     "output_type": "execute_result"
    }
   ],
   "source": [
    "rft_search_reg.fit(X_train_preprocess, y_train)"
   ]
  },
  {
   "cell_type": "code",
   "execution_count": 60,
   "metadata": {},
   "outputs": [],
   "source": [
    "# do not run classifiers: rft_search_cls.fit(X_train_preprocess, y_train)"
   ]
  },
  {
   "cell_type": "code",
   "execution_count": 61,
   "metadata": {},
   "outputs": [],
   "source": [
    "# do not run classifiers: rft_search_cls.best_estimator_"
   ]
  },
  {
   "cell_type": "code",
   "execution_count": 62,
   "metadata": {},
   "outputs": [
    {
     "data": {
      "text/plain": [
       "RandomForestRegressor(max_samples=0.9, min_samples_split=3, n_estimators=200)"
      ]
     },
     "execution_count": 62,
     "metadata": {},
     "output_type": "execute_result"
    }
   ],
   "source": [
    "rft_search_reg.best_estimator_"
   ]
  },
  {
   "cell_type": "code",
   "execution_count": 85,
   "metadata": {},
   "outputs": [
    {
     "data": {
      "text/plain": [
       "{'n_estimators': 200, 'min_samples_split': 3, 'max_samples': 0.9}"
      ]
     },
     "execution_count": 85,
     "metadata": {},
     "output_type": "execute_result"
    }
   ],
   "source": [
    "rft_search_reg.best_params_\n"
   ]
  },
  {
   "cell_type": "code",
   "execution_count": 63,
   "metadata": {},
   "outputs": [],
   "source": [
    "\n",
    "y_pred_reg =rft_search_reg.predict(X_test_preprocess)\n",
    "#testing classifiers and rounding: COnclussions, best stay with regression:\n",
    "#y_round=y_pred_reg.round()\n",
    "#y_pred_cls =rft_search_cls.predict(X_test_preprocess)"
   ]
  },
  {
   "cell_type": "code",
   "execution_count": 64,
   "metadata": {},
   "outputs": [],
   "source": [
    "#print(y_pred_cls,y_pred_reg)"
   ]
  },
  {
   "cell_type": "code",
   "execution_count": 65,
   "metadata": {},
   "outputs": [],
   "source": [
    "\n",
    "rmse_reg=mean_squared_error(y_test, y_pred_reg, squared=False)\n",
    "#rmse_round=mean_squared_error(y_test, y_round, squared=False)\n",
    "#rmse_cls=mean_squared_error(y_test, y_pred_cls, squared=False)"
   ]
  },
  {
   "cell_type": "code",
   "execution_count": 66,
   "metadata": {},
   "outputs": [
    {
     "name": "stdout",
     "output_type": "stream",
     "text": [
      "0.6887708812171783\n"
     ]
    }
   ],
   "source": [
    "print(rmse_reg)"
   ]
  },
  {
   "cell_type": "code",
   "execution_count": 67,
   "metadata": {},
   "outputs": [
    {
     "data": {
      "text/plain": [
       "0.7133934737733953"
      ]
     },
     "execution_count": 67,
     "metadata": {},
     "output_type": "execute_result"
    }
   ],
   "source": [
    "r2_score(y_test, y_pred_reg)"
   ]
  },
  {
   "cell_type": "code",
   "execution_count": 105,
   "metadata": {},
   "outputs": [],
   "source": [
    "# try to with gradient boot, \n",
    "#to tune the parameters:\n"
   ]
  },
  {
   "cell_type": "code",
   "execution_count": 78,
   "metadata": {},
   "outputs": [],
   "source": [
    "#use random search for gradient boosting:\n",
    "\n",
    "gbr_2=GradientBoostingRegressor()\n",
    "\n",
    "#define the parameters to test the model with \n",
    "param_grid_gbr_2={\"loss\":[\"ls\", \"lad\", \"huber\", \"quantile\"],\n",
    "                  \"learning_rate\":[0.1,0.2],\n",
    "                  \"n_estimators\":[300,500], #Gradient boosting is fairly robust to over-fitting so a large number usually results in better performance.\n",
    "                \"criterion\": [\"mse\"],\n",
    "                  \"min_samples_split\":range(2,7)\n",
    "            #\"max_samples\":[0.8,0.9,1]\n",
    "            }\n",
    "\n",
    "# define grid search\n",
    "gbr_search = RandomizedSearchCV(estimator=gbr_2, #kind of model\n",
    "                            param_distributions=param_grid_gbr_2, # options to combine and test\n",
    "                            scoring=\"neg_root_mean_squared_error\", #how to score each test\n",
    "                            cv=5,#number of folds to dive the data into\n",
    "                            random_state=123) "
   ]
  },
  {
   "cell_type": "code",
   "execution_count": 79,
   "metadata": {},
   "outputs": [
    {
     "data": {
      "text/plain": [
       "RandomizedSearchCV(cv=5, estimator=GradientBoostingRegressor(),\n",
       "                   param_distributions={'criterion': ['mse'],\n",
       "                                        'learning_rate': [0.1, 0.2],\n",
       "                                        'loss': ['ls', 'lad', 'huber',\n",
       "                                                 'quantile'],\n",
       "                                        'min_samples_split': range(2, 7),\n",
       "                                        'n_estimators': [300, 500]},\n",
       "                   random_state=123, scoring='neg_root_mean_squared_error')"
      ]
     },
     "execution_count": 79,
     "metadata": {},
     "output_type": "execute_result"
    }
   ],
   "source": [
    "gbr_search.fit(X_train_preprocess, y_train)"
   ]
  },
  {
   "cell_type": "code",
   "execution_count": 80,
   "metadata": {},
   "outputs": [
    {
     "data": {
      "text/plain": [
       "GradientBoostingRegressor(criterion='mse', min_samples_split=4,\n",
       "                          n_estimators=300)"
      ]
     },
     "execution_count": 80,
     "metadata": {},
     "output_type": "execute_result"
    }
   ],
   "source": [
    "gbr_search.best_estimator_"
   ]
  },
  {
   "cell_type": "code",
   "execution_count": 84,
   "metadata": {},
   "outputs": [
    {
     "data": {
      "text/plain": [
       "{'n_estimators': 300,\n",
       " 'min_samples_split': 4,\n",
       " 'loss': 'ls',\n",
       " 'learning_rate': 0.1,\n",
       " 'criterion': 'mse'}"
      ]
     },
     "execution_count": 84,
     "metadata": {},
     "output_type": "execute_result"
    }
   ],
   "source": [
    "gbr_search.best_params_"
   ]
  },
  {
   "cell_type": "code",
   "execution_count": 82,
   "metadata": {},
   "outputs": [],
   "source": [
    "y_pred_reg =gbr_search.predict(X_test_preprocess)"
   ]
  },
  {
   "cell_type": "code",
   "execution_count": 83,
   "metadata": {},
   "outputs": [
    {
     "data": {
      "text/plain": [
       "0.7580388245975814"
      ]
     },
     "execution_count": 83,
     "metadata": {},
     "output_type": "execute_result"
    }
   ],
   "source": [
    "rmse_reg=mean_squared_error(y_test, y_pred_reg, squared=False)\n",
    "rmse_reg"
   ]
  },
  {
   "cell_type": "code",
   "execution_count": null,
   "metadata": {},
   "outputs": [],
   "source": []
  },
  {
   "cell_type": "code",
   "execution_count": null,
   "metadata": {},
   "outputs": [],
   "source": [
    "# try stacking:"
   ]
  },
  {
   "cell_type": "code",
   "execution_count": 92,
   "metadata": {},
   "outputs": [],
   "source": [
    "estimators_simple = [('rf', RandomForestRegressor(n_estimators=100, random_state=42)),\n",
    "               ('gb',GradientBoostingRegressor(n_estimators=100, random_state=42)),\n",
    "               (\"ab\",AdaBoostRegressor(n_estimators=70, random_state=42))\n",
    "               \n",
    "               ]"
   ]
  },
  {
   "cell_type": "code",
   "execution_count": 86,
   "metadata": {},
   "outputs": [],
   "source": [
    "estimators = [('rf', RandomForestRegressor(max_samples=0.9, min_samples_split=3, n_estimators=200, random_state=42)),\n",
    "               ('gb',GradientBoostingRegressor(criterion='mse', min_samples_split=4,\n",
    "                          n_estimators=300, random_state=42)),\n",
    "               (\"ab\",AdaBoostRegressor(n_estimators=70, random_state=42))\n",
    "               \n",
    "               ]"
   ]
  },
  {
   "cell_type": "code",
   "execution_count": 95,
   "metadata": {},
   "outputs": [],
   "source": [
    "best_reg_complex = StackingRegressor(estimators=estimators,\n",
    "                             cv=10,\n",
    "                             final_estimator=LinearRegression())"
   ]
  },
  {
   "cell_type": "code",
   "execution_count": 97,
   "metadata": {},
   "outputs": [],
   "source": [
    "best_reg_simple = StackingRegressor(estimators=estimators_simple,\n",
    "                             cv=10,\n",
    "                             final_estimator=LinearRegression())"
   ]
  },
  {
   "cell_type": "code",
   "execution_count": 106,
   "metadata": {},
   "outputs": [
    {
     "data": {
      "text/plain": [
       "StackingRegressor(cv=10,\n",
       "                  estimators=[('rf',\n",
       "                               RandomForestRegressor(max_samples=0.9,\n",
       "                                                     min_samples_split=3,\n",
       "                                                     n_estimators=200,\n",
       "                                                     random_state=42)),\n",
       "                              ('gb',\n",
       "                               GradientBoostingRegressor(criterion='mse',\n",
       "                                                         min_samples_split=4,\n",
       "                                                         n_estimators=300,\n",
       "                                                         random_state=42)),\n",
       "                              ('ab',\n",
       "                               AdaBoostRegressor(n_estimators=70,\n",
       "                                                 random_state=42))],\n",
       "                  final_estimator=LinearRegression())"
      ]
     },
     "execution_count": 106,
     "metadata": {},
     "output_type": "execute_result"
    }
   ],
   "source": [
    "best_reg_complex.fit(X_train_preprocess, y_train)"
   ]
  },
  {
   "cell_type": "code",
   "execution_count": 109,
   "metadata": {},
   "outputs": [
    {
     "data": {
      "text/plain": [
       "0.2940333756416123"
      ]
     },
     "execution_count": 109,
     "metadata": {},
     "output_type": "execute_result"
    }
   ],
   "source": [
    "y_train_pred =best_reg_complex.predict(X_train_preprocess)\n",
    "mean_squared_error(y_train, y_train_pred, squared=False)"
   ]
  },
  {
   "cell_type": "code",
   "execution_count": 110,
   "metadata": {},
   "outputs": [
    {
     "data": {
      "text/plain": [
       "0.6911424600857249"
      ]
     },
     "execution_count": 110,
     "metadata": {},
     "output_type": "execute_result"
    }
   ],
   "source": [
    "y_pred =best_reg_complex.predict(X_test_preprocess)\n",
    "\n",
    "mean_squared_error(y_test, y_pred, squared=False)"
   ]
  },
  {
   "cell_type": "code",
   "execution_count": 98,
   "metadata": {
    "scrolled": true
   },
   "outputs": [
    {
     "data": {
      "text/plain": [
       "StackingRegressor(cv=10,\n",
       "                  estimators=[('rf', RandomForestRegressor(random_state=42)),\n",
       "                              ('gb',\n",
       "                               GradientBoostingRegressor(random_state=42)),\n",
       "                              ('ab',\n",
       "                               AdaBoostRegressor(n_estimators=70,\n",
       "                                                 random_state=42))],\n",
       "                  final_estimator=LinearRegression())"
      ]
     },
     "execution_count": 98,
     "metadata": {},
     "output_type": "execute_result"
    }
   ],
   "source": [
    "best_reg_simple.fit(X_train_preprocess, y_train)"
   ]
  },
  {
   "cell_type": "code",
   "execution_count": 89,
   "metadata": {},
   "outputs": [
    {
     "data": {
      "text/plain": [
       "[RandomForestRegressor(max_samples=0.9, min_samples_split=3, n_estimators=200,\n",
       "                       random_state=42),\n",
       " GradientBoostingRegressor(criterion='mse', min_samples_split=4,\n",
       "                           n_estimators=300, random_state=42),\n",
       " AdaBoostRegressor(n_estimators=70, random_state=42)]"
      ]
     },
     "execution_count": 89,
     "metadata": {},
     "output_type": "execute_result"
    }
   ],
   "source": [
    "best_reg.estimators_"
   ]
  },
  {
   "cell_type": "code",
   "execution_count": 101,
   "metadata": {},
   "outputs": [
    {
     "data": {
      "text/plain": [
       "0.6868460979665159"
      ]
     },
     "execution_count": 101,
     "metadata": {},
     "output_type": "execute_result"
    }
   ],
   "source": [
    "y_pred =best_reg_simple.predict(X_test_preprocess)\n",
    "\n",
    "mean_squared_error(y_test, y_pred, squared=False)"
   ]
  },
  {
   "cell_type": "code",
   "execution_count": null,
   "metadata": {},
   "outputs": [],
   "source": []
  },
  {
   "cell_type": "code",
   "execution_count": 103,
   "metadata": {},
   "outputs": [
    {
     "data": {
      "text/plain": [
       "0.2697249198723344"
      ]
     },
     "execution_count": 103,
     "metadata": {},
     "output_type": "execute_result"
    }
   ],
   "source": [
    "y_train_pred =best_reg_simple.predict(X_train_preprocess)\n",
    "mean_squared_error(y_train, y_train_pred, squared=False)"
   ]
  },
  {
   "cell_type": "code",
   "execution_count": 104,
   "metadata": {},
   "outputs": [
    {
     "data": {
      "text/plain": [
       "0.9570666243908306"
      ]
     },
     "execution_count": 104,
     "metadata": {},
     "output_type": "execute_result"
    }
   ],
   "source": [
    "r2_score(y_train, y_train_pred)"
   ]
  },
  {
   "cell_type": "code",
   "execution_count": 102,
   "metadata": {},
   "outputs": [
    {
     "data": {
      "text/plain": [
       "0.7149930902799977"
      ]
     },
     "execution_count": 102,
     "metadata": {},
     "output_type": "execute_result"
    }
   ],
   "source": [
    "r2_score(y_test, y_pred)"
   ]
  },
  {
   "cell_type": "code",
   "execution_count": 153,
   "metadata": {},
   "outputs": [],
   "source": [
    "val_pred =best_reg.predict(X_val_preprocess)\n"
   ]
  },
  {
   "cell_type": "code",
   "execution_count": 154,
   "metadata": {},
   "outputs": [
    {
     "data": {
      "text/plain": [
       "array([7.2954177 , 7.98087668, 7.6394394 , 8.09622526, 7.85126268,\n",
       "       7.11332471, 8.09745513, 7.31617707, 7.94263904, 8.31668928,\n",
       "       7.36182795, 7.8587662 , 7.20930544, 7.34463019, 8.32137495,\n",
       "       7.33001583, 8.66269962, 7.48175593, 7.72924471, 8.40948498,\n",
       "       8.45115444, 8.59957955, 8.45626784, 7.50216721, 7.56434226,\n",
       "       7.28810632, 7.61926334, 7.31640754, 7.23197024, 7.34389905,\n",
       "       7.79607202, 7.88353081, 7.43681714, 7.69480113, 8.28175481,\n",
       "       8.73528508, 8.29716597, 8.32458991, 6.83412168, 8.07267696,\n",
       "       8.29595195, 7.88258031, 8.46572891, 7.11056351, 7.33610932,\n",
       "       7.3255854 , 7.06284587, 8.0557025 , 7.67515466, 8.17452467,\n",
       "       7.13384838, 7.62708386, 7.618385  , 8.1042651 , 7.71724079,\n",
       "       8.08650977, 7.64543   , 7.22848855, 8.02610517, 8.29844863,\n",
       "       7.51457368, 7.85162396, 7.46229256, 8.43489366, 8.14211511,\n",
       "       7.85140398, 7.28523352, 7.54152247, 7.34793919, 8.35677588,\n",
       "       7.98982263, 8.05510012, 6.93395068, 6.59747401, 8.41771969,\n",
       "       7.87515814, 7.8795626 , 7.59178345, 7.21688361, 7.86488645,\n",
       "       7.69845631, 7.93508965, 7.14755404, 7.79846687, 7.02288448,\n",
       "       8.17931859, 8.18499755, 7.5549816 , 7.97870302, 8.3010794 ,\n",
       "       8.65767337, 7.31271048, 8.07995262, 7.53919691, 7.5776644 ,\n",
       "       8.04222511, 7.55656735, 8.15043272, 7.79033552, 6.59036513,\n",
       "       8.52134276, 7.55229296, 8.3878634 , 7.88334166, 8.3145511 ,\n",
       "       7.42118436, 7.14515393, 7.21623012, 8.16117534, 8.33442351,\n",
       "       8.27649304, 7.24668688, 7.52512845, 7.55753101, 7.38448325,\n",
       "       7.33501166, 7.83941904, 7.82572881, 8.47579422, 7.48680448,\n",
       "       8.27919494, 8.25816981, 7.30966023, 7.40388794, 8.15975889,\n",
       "       8.12180039, 7.1591343 , 7.73177915, 7.13514505, 8.5820935 ,\n",
       "       7.19238291, 8.10171349, 7.7734594 , 7.233529  , 7.04996747,\n",
       "       8.5274292 , 7.24269164, 8.09693182, 7.71743633, 7.70181238,\n",
       "       7.83500917, 7.77875601, 7.08542988, 8.07647544, 7.20465452,\n",
       "       7.14100609, 7.17180518, 9.18689384, 8.75508138, 8.54819659,\n",
       "       7.06634166, 8.06826034, 7.51967304, 7.29589446, 7.23997721,\n",
       "       7.36899972, 7.93387969, 7.3983203 , 8.76814101, 8.73569729,\n",
       "       7.99847991, 8.14960732, 7.20854691, 8.48651163, 7.47709792,\n",
       "       7.73950304, 7.44729248, 7.75237535, 7.85147169, 7.96493253,\n",
       "       8.52628451, 7.74153066, 7.2494454 , 7.44194996, 7.27715889,\n",
       "       8.13990791, 8.60973001, 7.75617297, 8.08370279, 8.21004192,\n",
       "       7.26786099, 7.09965125, 7.50990069, 7.27540686, 7.36182745,\n",
       "       7.17460716, 8.41046348, 7.25003469, 7.23546574, 8.08228358,\n",
       "       6.86925489, 7.25015281, 8.60001132, 7.11399379, 8.32899898,\n",
       "       8.30972553, 7.1950616 , 7.1950616 , 8.49929668, 8.17871223,\n",
       "       7.51995875, 9.09156387, 8.68322899, 7.10393623, 8.86065014,\n",
       "       7.59470799, 6.98109761, 7.48563778, 7.16680199, 8.4158646 ,\n",
       "       7.06711869, 7.33715961, 7.21391   , 8.45856645, 7.16325615,\n",
       "       8.2320612 , 8.21417537, 7.65954   , 7.15954562, 7.04398112,\n",
       "       7.06053795, 7.25470647, 7.14672435, 7.89487408, 7.54352658,\n",
       "       7.2562929 , 7.50021366, 7.11938377, 7.7457182 , 7.64437866,\n",
       "       7.87297789, 7.31892935, 6.98659566, 7.49777141, 7.2833056 ,\n",
       "       9.05286662, 9.08892776, 7.49105675, 8.46036504, 7.76638092,\n",
       "       7.41507925, 8.43763806, 7.64861529, 6.84874107, 7.48925287,\n",
       "       7.15191373, 7.71266149, 7.83550178, 8.54149594, 7.49643049,\n",
       "       7.32284886, 8.46195371, 6.48025623, 7.76262519, 7.48572055,\n",
       "       8.69777337, 7.57330844, 7.16592175, 7.06758696, 8.11200359,\n",
       "       8.07903533, 6.92047535, 7.18039445, 8.54151538, 8.12765056,\n",
       "       7.73272906, 7.76985478, 7.73180222, 7.50110557, 8.08803517,\n",
       "       8.71183888, 7.84607982, 7.5275889 , 7.27115632, 8.73507133,\n",
       "       7.22748638, 7.92065195, 8.45318014, 8.21494341, 8.80677362,\n",
       "       7.45497881, 8.32482949, 7.24461567, 8.03021951, 8.20285903,\n",
       "       8.15136832, 8.04941163, 7.25701414, 8.74965912, 7.11773066,\n",
       "       8.39174856, 8.41825513, 8.63865315, 8.63079309, 7.41034496,\n",
       "       8.74022622, 8.31354867, 8.23523772, 7.38468409, 7.70800294,\n",
       "       8.018243  , 7.43182254, 7.53978613, 7.18340021, 7.63188785,\n",
       "       8.4101922 , 8.72038837, 8.71333793, 8.34447987, 8.14723681,\n",
       "       8.65670049, 7.42351489, 8.80199243, 7.7156417 , 8.13153119,\n",
       "       7.42694996, 7.54716473, 7.12722359, 7.51155525, 8.42769978,\n",
       "       7.60967397, 7.51919896, 7.51962004, 7.92754463, 7.75151891,\n",
       "       7.76810379, 7.95940592, 8.45948613, 7.97283863, 8.03749535,\n",
       "       7.23132093, 8.84168279, 7.89144946, 7.57304102, 8.21415483,\n",
       "       7.92973029, 8.19914393, 7.6907619 , 9.05089489, 8.05092681,\n",
       "       7.53157855, 7.64782137, 7.67997952, 8.56081173, 8.55321638,\n",
       "       7.67219048, 8.20565856, 7.52587293, 7.88436551, 7.69220765,\n",
       "       7.64794195, 7.49254377, 7.74520163, 8.05869957, 9.21858634,\n",
       "       7.70200502, 7.65736711, 7.63375979, 7.96440721, 8.41874689,\n",
       "       7.8498834 , 8.01112763, 7.76750452, 7.56775083, 8.06223826,\n",
       "       7.87799795, 7.26939532, 7.80236157, 8.33374699, 7.8590438 ,\n",
       "       8.12021859, 8.38434445, 7.82373088, 7.94126997, 7.34641367,\n",
       "       8.49646867, 8.01165606, 8.75827439, 8.94716656, 8.71559706,\n",
       "       8.01298212, 8.18412188, 8.1412    , 8.20334838, 8.34516582,\n",
       "       7.98099623, 7.92055003, 8.99846372, 8.36769358, 7.45396844,\n",
       "       7.99182548, 8.5249795 , 8.47653176, 8.65280401, 8.06306872,\n",
       "       8.45960638, 7.03628288, 7.32232946, 8.39656746, 8.3638214 ,\n",
       "       8.49809194, 7.42757498, 8.38382352, 8.53648157, 8.74422581,\n",
       "       7.99639093, 7.48017467, 7.65506624, 8.09627501, 7.77434868,\n",
       "       8.36678315, 8.35010252, 7.08709498, 8.39486388, 7.03234446,\n",
       "       7.75584981, 8.85847913, 7.3031773 , 8.07682858, 8.27816574,\n",
       "       8.19870282, 7.89967606, 8.84020252, 8.21157635, 8.70946672,\n",
       "       7.40819464, 8.34986833, 7.57890848, 7.35344767, 7.56107241,\n",
       "       8.63911794, 8.13572527, 7.48551817, 8.12778274, 8.93113866,\n",
       "       7.41387004, 8.44143524, 8.20984961, 8.4598095 , 7.56653307,\n",
       "       7.92732164, 8.7420101 , 8.47345789, 8.46304842, 7.50277026,\n",
       "       8.90227367, 7.80952013, 7.20284308, 7.95997994, 8.57808091,\n",
       "       8.05114258, 7.82913392, 7.73583105, 7.34962209, 8.5184386 ,\n",
       "       7.51758684, 8.4767929 , 8.02586599, 8.24250546, 8.24629143,\n",
       "       8.24465266, 7.69778   , 8.85346062, 8.13886157, 8.11910208,\n",
       "       7.58696525, 7.79399167, 7.58885824, 7.55901582, 6.88027026,\n",
       "       8.89016949, 8.42369921, 8.57939499, 7.70792692, 7.23279199,\n",
       "       7.66790805, 7.96340015, 7.00240945, 8.48367678, 9.1093245 ,\n",
       "       8.18775069, 8.0687002 , 7.18664628, 7.19987271, 7.29897718,\n",
       "       8.44675717, 8.12757714, 7.66081367, 8.88153319, 7.76214146,\n",
       "       7.10906351, 7.91850927, 7.8368545 , 9.31089903, 7.64544986,\n",
       "       8.83813815, 8.54027875, 8.01339606, 7.15972871, 7.4421757 ,\n",
       "       7.25264122, 7.07653707, 7.61799959, 8.0408798 , 8.85592822,\n",
       "       7.50211589, 7.60382925, 9.12329039, 8.82126196, 9.12184105,\n",
       "       8.47046931, 8.80006232, 7.35742442, 7.21866568, 8.67660743,\n",
       "       7.55645853, 7.71575767, 7.86758116, 7.7132005 , 8.72005018,\n",
       "       7.85134428, 8.18773744, 7.51578632, 8.25840313, 8.69423165,\n",
       "       8.90670398, 8.3394386 , 8.34050692, 7.452951  , 8.20062858,\n",
       "       7.36314422, 7.2567526 , 9.09686826, 8.61605262, 8.49300851,\n",
       "       7.84328723, 7.88323773, 7.77348938, 8.23651264, 7.78340079,\n",
       "       8.3471902 , 8.6081638 , 7.89121416, 7.62055457, 8.57784967,\n",
       "       7.45349079, 7.44591885, 8.60414556, 8.03654471, 9.05190624,\n",
       "       7.64983315, 7.3120354 , 7.91841422, 7.89935345, 7.72659291,\n",
       "       7.46905017, 7.69736985, 7.88582843, 7.29020624, 7.47449452,\n",
       "       8.49929639, 7.89490316, 8.38675279, 7.59611145, 7.4847076 ,\n",
       "       7.21018908, 7.1629315 , 7.02663648, 7.91108504, 7.44921295,\n",
       "       7.49617477, 8.77559571, 8.76541056, 7.67985136, 7.81059776,\n",
       "       7.95599331, 7.46192579, 7.27477852, 7.58956561, 8.40523159,\n",
       "       7.40442778, 7.13961599, 8.43057765, 8.1014715 , 7.28553648,\n",
       "       8.42360736, 8.09610297, 7.42529086, 7.95370115, 7.48762349,\n",
       "       8.05440843, 8.66492808, 8.0316926 , 8.46891991, 7.39373367,\n",
       "       7.10752453, 7.64296597, 7.69455928, 8.30908637, 9.04022992,\n",
       "       8.600112  , 8.91714339, 7.64117624, 8.83237131, 7.80351477,\n",
       "       8.25358378, 7.3328686 , 6.96080866, 7.14087993, 7.68681389,\n",
       "       7.32041612, 8.12217127, 8.36497495, 7.74298481, 7.69850717,\n",
       "       7.70879209, 7.3806967 , 7.44405925, 7.86327048, 7.62041595,\n",
       "       7.62734487, 7.65887027, 8.23693579, 8.40703695, 7.00021423,\n",
       "       8.43109771, 7.52516642, 7.5422033 , 7.46992553, 8.00261286,\n",
       "       7.8631882 , 8.77913037, 7.296653  , 6.91893704, 8.88760327,\n",
       "       7.20569529, 8.70108639, 7.36563054, 7.80590781, 7.72768563,\n",
       "       7.74486777, 7.64871966, 8.94820388, 7.96903015, 7.49754764,\n",
       "       8.51680219, 8.11131397, 7.7511466 , 8.83598296, 8.23439599,\n",
       "       9.1913931 , 7.50870831, 8.39162942, 7.94029193, 8.58562089,\n",
       "       8.57079832, 6.90047824, 8.25868738, 8.50050173, 8.47919082,\n",
       "       8.51733892, 7.55524509, 7.32455102, 7.70741576, 8.51301689,\n",
       "       8.51538993, 6.86271691, 8.35757544, 7.73943239, 7.83623015,\n",
       "       8.19959027, 7.68709378, 8.20870761, 8.18960048, 7.62405925,\n",
       "       8.33488339, 7.98686144, 8.67447656, 7.75623534, 8.46328213,\n",
       "       7.42235237, 7.68337115, 7.72710687, 7.48409044, 8.23132054,\n",
       "       7.99658972, 8.83181778, 7.16472596, 7.43338577, 7.58733256,\n",
       "       7.58213366, 8.17448747, 8.04207876, 7.25267804, 8.48409197,\n",
       "       8.61957389, 7.57915667, 8.80648512, 8.4556982 , 6.51469074,\n",
       "       7.19472685, 7.62375079, 7.24755703, 8.8182522 , 8.17673352,\n",
       "       9.00653235, 5.13771972, 5.08483004, 5.39592079, 5.19704781,\n",
       "       5.170766  , 5.25180699, 5.16117394, 4.96954502, 5.49812886,\n",
       "       5.2055254 , 4.71616103, 4.97041111, 6.00163475, 5.67808584,\n",
       "       5.20399674, 6.18545079, 6.63519702, 6.18460117, 5.24601419,\n",
       "       5.91223688, 6.05823849, 5.52120836, 6.10905668, 5.17626065,\n",
       "       5.63478887, 5.73886439, 6.13402189, 5.8245969 , 6.25560889,\n",
       "       5.42736687, 5.93226646, 5.28508001, 6.11847577, 5.09034451,\n",
       "       5.51082526, 5.21781526, 5.73098398, 5.99812222, 5.69524117,\n",
       "       5.38349324, 4.68365602, 6.43511138, 5.80314223, 6.2364477 ,\n",
       "       7.00039863, 4.79054044, 6.5169647 , 6.20227743, 5.19974383,\n",
       "       6.01562835, 4.96454306, 4.60158868, 4.91781293, 5.89531077,\n",
       "       6.41177625, 5.76459384, 6.07346063, 6.00863461, 5.1299035 ,\n",
       "       5.44319372, 5.44420475, 4.52469744, 4.66446931, 5.29170641,\n",
       "       6.85194483, 5.35003776, 5.56525873, 4.44648649, 4.85105676,\n",
       "       5.15403588, 4.91009425, 4.45262477, 5.51936716])"
      ]
     },
     "execution_count": 154,
     "metadata": {},
     "output_type": "execute_result"
    }
   ],
   "source": [
    "val_pred"
   ]
  },
  {
   "cell_type": "code",
   "execution_count": null,
   "metadata": {},
   "outputs": [],
   "source": []
  }
 ],
 "metadata": {
  "kernelspec": {
   "display_name": "Python 3",
   "language": "python",
   "name": "python3"
  },
  "language_info": {
   "codemirror_mode": {
    "name": "ipython",
    "version": 3
   },
   "file_extension": ".py",
   "mimetype": "text/x-python",
   "name": "python",
   "nbconvert_exporter": "python",
   "pygments_lexer": "ipython3",
   "version": "3.8.5"
  }
 },
 "nbformat": 4,
 "nbformat_minor": 4
}
